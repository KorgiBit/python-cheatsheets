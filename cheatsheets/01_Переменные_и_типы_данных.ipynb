{
 "cells": [
  {"cell_type": "markdown", "metadata": {}, "source": ["# Переменные и типы данных\n"]},
  {"cell_type": "markdown", "metadata": {}, "source": ["**Что такое переменная?**\n\nПеременная — это как ярлык на коробке: даёшь ей имя и кладёшь внутрь что угодно — число, строку, список... Так удобнее обращаться к данным в программе."]},
  {"cell_type": "markdown", "metadata": {}, "source": ["**Синтаксис**\n\n```python\nnumber = 10\ntext = 'Hello, Python!'\npi = 3.14\nflag = True\nitems = [1, 2, 3]\n```\n"]},
  {"cell_type": "markdown", "metadata": {}, "source": ["**Основные типы данных**\n\n- `int` — целое число (42)\n- `float` — число с запятой (3.14)\n- `str` — строка ('Привет!')\n- `bool` — логический тип (True, False)\n- `list` — список ([1, 2, 3])\n- `tuple` — кортеж ((1, 2, 3))\n- `dict` — словарь ({'ключ': 'значение'})\n- `set` — множество ({1, 2, 3})"]},
  {"cell_type": "code", "execution_count": null, "metadata": {}, "outputs": [], "source": ["# Примеры переменных\nnumber = 10\ntext = 'Hello, Python!'\npi = 3.14\nflag = True\nitems = [1, 2, 3]\n"]},
  {"cell_type": "code", "execution_count": null, "metadata": {}, "outputs": [], "source": ["# Как узнать тип переменной?\nprint(type(number))  # <class 'int'>\nprint(type(text))    # <class 'str'>\n"]},
  {"cell_type": "markdown", "metadata": {}, "source": ["**Типичные ошибки и примеры**\n\n- Имя переменной не может начинаться с цифры:\n\n```python\n2cats = 'мяу'  # SyntaxError: invalid syntax\n```\n\n- Нельзя использовать пробелы в имени:\n\n```python\nmy variable = 5  # SyntaxError: invalid syntax\n```\n\n- Не путай кавычки:\n\n```python\ntext = 'Привет\"  # SyntaxError: EOL while scanning string literal\n```\n\n- Не переопределяй встроенные имена:\n\n```python\nlist = 123\nprint(list([1,2,3]))  # TypeError: 'int' object is not callable\n```\n"]},
  {"cell_type": "markdown", "metadata": {}, "source": ["**Лайфхаки с важными советами**\n\n- Переменные — как носки: называй их понятно, чтобы не путаться!\n- Не бойся экспериментировать: Python многое прощает, но не всё.\n- Если не уверен — используй функцию `type()`.\n- Не называй переменные `l`, `O`, `I` — они похожи на цифры и буквы, можно запутаться.\n- Не переопределяй имена встроенных функций (например, не называй переменную `list` или `str`)."]},
  {"cell_type": "markdown", "metadata": {}, "source": ["**Почему важно давать переменным осмысленные имена?**\n\nПонятные имена — залог читаемости кода! Через месяц ты сам забудешь, что такое `a1` или `x2`, а вот `quantity_apples` или `user_name` всё скажут без лишних вопросов."]},
  {"cell_type": "markdown", "metadata": {}, "source": ["**Примеры имён переменных: норм и не норм**\n\n| Не норм     | Норм              |\n|-------------|-------------------|\n| a           | total_score       |\n| x1          | house_temperature |\n| l           | product_list      |\n| data        | birth_date        |\n| var         | user_name         |\n\nСтарайся выбирать имена, которые отражают суть переменной!"]},
  {"cell_type": "markdown", "metadata": {}, "source": ["**Важно!**\n\nВ Python (и вообще в программировании) принято называть переменные на английском языке, даже если ты пишешь код для себя или для русскоязычной команды.\n\nРусские буквы в именах переменных — плохая практика. Это может вызвать ошибки, проблемы с совместимостью, а коллеги просто не поймут твой код.\n\nПример неудачного имени:\n\n```python\nсумма = 100  # так не надо!\nимя_пользователя = 'Вася'  # тоже не надо!\n```\n\nЛучше так:\n\n```python\nsum_amount = 100\nuser_name = 'Vasya'\n```\n"]}
 ],
 "metadata": {
  "kernelspec": {"display_name": "Python 3", "language": "python", "name": "python3"},
  "language_info": {"name": "python", "version": "3.10"}
 },
 "nbformat": 4,
 "nbformat_minor": 5
}
