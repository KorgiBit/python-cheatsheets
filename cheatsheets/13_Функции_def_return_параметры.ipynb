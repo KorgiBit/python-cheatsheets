{
 "cells": [
  {"cell_type": "markdown", "metadata": {}, "source": ["# Функции: def, return, параметры"]},
  {"cell_type": "markdown", "metadata": {}, "source": ["**Что такое функция?**\n\nФункция — это именованный блок кода, который можно вызывать много раз. Функции помогают структурировать и переиспользовать код."]},
  {"cell_type": "markdown", "metadata": {}, "source": ["## Объявление функции\n\n```python\ndef имя_функции(параметры):\n    # действия\n    return результат\n```"]},
  {"cell_type": "code", "execution_count": null, "metadata": {}, "outputs": [], "source": ["# Пример: простая функция\ndef greet():\n    print('Привет!')\ngreet()"]},
  {"cell_type": "code", "execution_count": null, "metadata": {}, "outputs": [], "source": ["# Пример: функция с параметрами\ndef add(a, b):\n    return a + b\nresult = add(2, 3)\nprint('Сумма:', result)"]},
  {"cell_type": "code", "execution_count": null, "metadata": {}, "outputs": [], "source": ["# Пример: функция с return\ndef square(x):\n    return x * x\nprint(square(5))"]},
  {"cell_type": "markdown", "metadata": {}, "source": ["## Параметры и аргументы\n\n- Параметры — это переменные в определении функции.\n- Аргументы — это значения, которые передаются при вызове."]},
  {"cell_type": "code", "execution_count": null, "metadata": {}, "outputs": [], "source": ["# Пример: параметры по умолчанию\ndef greet(name='Гость'):\n    print('Привет,', name)\ngreet()\ngreet('Аня')"]},
  {"cell_type": "code", "execution_count": null, "metadata": {}, "outputs": [], "source": ["# Пример: позиционные и именованные аргументы\ndef info(name, age):\n    print(f'{name}, {age} лет')\ninfo('Вася', 12)\ninfo(age=15, name='Петя')"]},
  {"cell_type": "markdown", "metadata": {}, "source": ["## Возвращаемое значение\n\n- Если нет return — функция возвращает None.\n- Можно возвращать несколько значений через запятую (будет кортеж)."]},
  {"cell_type": "code", "execution_count": null, "metadata": {}, "outputs": [], "source": ["# Пример: несколько return\ndef min_max(nums):\n    return min(nums), max(nums)\nmi, ma = min_max([1, 2, 3])\nprint('min:', mi, 'max:', ma)"]},
  {"cell_type": "markdown", "metadata": {}, "source": ["## Вложенные функции и область видимости\n\n- Локальные переменные видны только внутри функции.\n- Вложенные функции можно создавать внутри других функций."]},
  {"cell_type": "code", "execution_count": null, "metadata": {}, "outputs": [], "source": ["# Пример: вложенная функция\ndef outer():\n    def inner():\n        print('Внутренняя функция')\n    inner()\nouter()"]},
  {"cell_type": "markdown", "metadata": {}, "source": ["## Типичные ошибки и примеры"]},
  {"cell_type": "code", "execution_count": null, "metadata": {}, "outputs": [], "source": ["# Ошибка: забыли return\ndef wrong(x):\n    x * 2\nprint(wrong(3))  # None"]},
  {"cell_type": "code", "execution_count": null, "metadata": {}, "outputs": [], "source": ["# Ошибка: не передан обязательный аргумент\ndef hello(name):\n    print('Привет,', name)\ntry:\n    hello()\nexcept TypeError as e:\n    print('Ошибка:', e)"]},
  {"cell_type": "markdown", "metadata": {}, "source": ["## Лайфхаки и советы\n\n- Хорошая функция делает что-то одно.\n- Используй return для возврата результата.\n- Давай функциям понятные имена.\n- Не используй глобальные переменные без необходимости.\n- Для сложных функций пиши docstring (строку документации)."]}
 ],
 "metadata": {
  "kernelspec": {"display_name": "Python 3", "language": "python", "name": "python3"},
  "language_info": {"name": "python", "version": "3.10"}
 },
 "nbformat": 4,
 "nbformat_minor": 5
}
