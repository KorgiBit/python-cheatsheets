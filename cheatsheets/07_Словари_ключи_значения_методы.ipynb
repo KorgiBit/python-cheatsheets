{
 "cells": [
  {"cell_type": "markdown", "metadata": {}, "source": ["# Словари: ключи, значения, методы\n"]},
  {"cell_type": "markdown", "metadata": {}, "source": ["**Что это?**\n\nСловарь (dict) — это как телефонная книга: каждому ключу соответствует значение. Можно быстро искать и менять данные по ключу."]},
  {"cell_type": "markdown", "metadata": {}, "source": ["**Синтаксис**\n\n```python\nd = {'name': 'Vasya', 'age': 12}\n```\n"]},
  {"cell_type": "markdown", "metadata": {}, "source": ["**Основные методы**\n\n- `d[key]` — получить значение по ключу\n- `d.get(key, default)` — получить значение или вернуть default\n- `d.keys()` — все ключи\n- `d.values()` — все значения\n- `d.items()` — пары ключ-значение\n- `d.pop(key)` — удалить по ключу\n- `d.update({...})` — обновить словарь\n- `d.clear()` — очистить словарь\n- `d.copy()` — копия словаря\n"]},
  {"cell_type": "code", "execution_count": null, "metadata": {}, "outputs": [], "source": ["# Пример: доступ по ключу\nd = {'name': 'Vasya', 'age': 12}\nprint(d['name'])\n"]},
  {"cell_type": "code", "execution_count": null, "metadata": {}, "outputs": [], "source": ["# Пример: get с дефолтным значением\nd = {'name': 'Vasya'}\nprint(d.get('city', 'Не найдено'))\n"]},
  {"cell_type": "code", "execution_count": null, "metadata": {}, "outputs": [], "source": ["# Пример: keys, values, items\nd = {'a': 1, 'b': 2}\nprint('keys:', list(d.keys()))\nprint('values:', list(d.values()))\nprint('items:', list(d.items()))\n"]},
  {"cell_type": "code", "execution_count": null, "metadata": {}, "outputs": [], "source": ["# Пример: добавление и обновление\nd = {'name': 'Vasya', 'age': 12}\nd['city'] = 'Moscow'\nd.update({'age': 13, 'school': '№1'})\nprint(d)\n"]},
  {"cell_type": "code", "execution_count": null, "metadata": {}, "outputs": [], "source": ["# Пример: pop, clear, copy\nd = {'a': 1, 'b': 2, 'c': 3}\nremoved = d.pop('b')\nprint('после pop:', d, 'удалили:', removed)\nd2 = d.copy()\nd.clear()\nprint('ориг:', d, 'копия:', d2)\n"]},
  {"cell_type": "code", "execution_count": null, "metadata": {}, "outputs": [], "source": ["# Перебор словаря\nd = {'a': 1, 'b': 2}\nfor k in d:\n    print('ключ:', k, 'значение:', d[k])\nfor k, v in d.items():\n    print('ключ:', k, 'значение:', v)\n"]},
  {"cell_type": "code", "execution_count": null, "metadata": {}, "outputs": [], "source": ["# Вложенные словари\nusers = {\n    'vasya': {'age': 12, 'city': 'Moscow'},\n    'petya': {'age': 13, 'city': 'SPb'}\n}\nprint(users['vasya']['city'])\n"]},
  {"cell_type": "markdown", "metadata": {}, "source": ["**Типичные ошибки и примеры**\n"]},
  {"cell_type": "code", "execution_count": null, "metadata": {}, "outputs": [], "source": ["# Ошибка: ключ — изменяемый тип\ntry:\n    d = {[1, 2]: 'oops'}\nexcept TypeError as e:\n    print('Ошибка:', e)\n"]},
  {"cell_type": "code", "execution_count": null, "metadata": {}, "outputs": [], "source": ["# Ошибка: несуществующий ключ\nd = {'a': 1}\ntry:\n    print(d['b'])\nexcept KeyError as e:\n    print('Ошибка:', e)\n"]},
  {"cell_type": "code", "execution_count": null, "metadata": {}, "outputs": [], "source": ["# Ошибка: имя dict\ndict = {'a': 1}\ntry:\n    print(dict([('b', 2)]))\nexcept TypeError as e:\n    print('Ошибка:', e)\n"]},
  {"cell_type": "markdown", "metadata": {}, "source": ["**Лайфхаки с важными советами**\n\n- Для безопасного доступа используй `get()`.\n- Для перебора сразу ключей и значений — `items()`.\n- Для подсчёта частоты встречаемости — `collections.Counter`.\n- Для вложенных данных — словарь в словаре!\n- Для удаления всех элементов — `clear()`.\n- Для копирования — `copy()`.\n- Не называй переменные именами встроенных функций.\n"]}
 ],
 "metadata": {
  "kernelspec": {"display_name": "Python 3", "language": "python", "name": "python3"},
  "language_info": {"name": "python", "version": "3.10"}
 },
 "nbformat": 4,
 "nbformat_minor": 5
}
