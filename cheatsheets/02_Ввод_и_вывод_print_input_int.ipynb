{
 "cells": [
  {"cell_type": "markdown", "metadata": {}, "source": ["# Ввод и вывод: print(), input(), int()\n"]},
  {"cell_type": "markdown", "metadata": {}, "source": ["**Что это?**\n\n`print()` — команда для вывода информации на экран.\n`input()` — позволяет получить данные от пользователя (всегда строка!).\n`int()` — преобразует строку в число, если это возможно."]},
  {"cell_type": "markdown", "metadata": {}, "source": ["**Синтаксис**\n\n```python\nprint('Привет, мир!')\nname = input('Как тебя зовут? ')\nage = int(input('Сколько тебе лет? '))\n```\n"]},
  {"cell_type": "markdown", "metadata": {}, "source": ["**Основные приёмы**\n\n- В `print()` можно выводить сразу несколько значений через запятую.\n- В `input()` всегда возвращается строка, даже если пользователь ввёл число.\n- Чтобы получить число, оберни `input()` в `int()`:\n- Можно использовать f-строки для красивого вывода: `print(f'Привет, {name}!')`\n- В `print()` можно задать конец строки: `print('Hello', end='!')`\n"]},
  {"cell_type": "code", "execution_count": null, "metadata": {}, "outputs": [], "source": ["# Пример 1: print с несколькими аргументами\nprint('Сумма:', 2 + 2)\n"]},
  {"cell_type": "code", "execution_count": null, "metadata": {}, "outputs": [], "source": ["# Пример 2: input и print\nname = input('Введите имя: ')\nprint('Привет,', name)\n"]},
  {"cell_type": "code", "execution_count": null, "metadata": {}, "outputs": [], "source": ["# Пример 3: int + input\nage = int(input('Сколько тебе лет? '))\nprint(f'Через год тебе будет {age + 1}')\n"]},
  {"cell_type": "code", "execution_count": null, "metadata": {}, "outputs": [], "source": ["# Пример 4: print с end\nprint('Hello', end='!')\nprint('World')  # Выведет: Hello!World\n"]},
  {"cell_type": "markdown", "metadata": {}, "source": ["**Типичные ошибки и примеры**\n"]},
  {"cell_type": "code", "execution_count": null, "metadata": {}, "outputs": [], "source": ["# Ошибка: ввод не числа\ntry:\n    age = int(input('Сколько тебе лет? '))  # Введите: abc\nexcept ValueError as e:\n    print('Ошибка:', e)  # ValueError: invalid literal for int() with base 10: 'abc'\n"]},
  {"cell_type": "code", "execution_count": null, "metadata": {}, "outputs": [], "source": ["# Ошибка: input всегда строка\nx = input('Введи число: ')\ntry:\n    print(x + 2)  # TypeError: can only concatenate str (not 'int') to str\nexcept TypeError as e:\n    print('Ошибка:', e)\n"]},
  {"cell_type": "markdown", "metadata": {}, "source": ["**Лайфхаки с важными советами**\n\n- Для сложных вводов используй подсказки в тексте запроса.\n- Проверяй, что пользователь ввёл число, прежде чем преобразовывать в `int()`.\n- Для многострочного вывода используй `\\n` или несколько `print()`.\n- Не называй переменные `input` или `print` — это встроенные функции!\n"]}
 ],
 "metadata": {
  "kernelspec": {"display_name": "Python 3", "language": "python", "name": "python3"},
  "language_info": {"name": "python", "version": "3.10"}
 },
 "nbformat": 4,
 "nbformat_minor": 5
}
