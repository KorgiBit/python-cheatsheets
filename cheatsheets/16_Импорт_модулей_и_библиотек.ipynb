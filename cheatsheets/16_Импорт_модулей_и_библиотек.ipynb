{
 "cells": [
  {"cell_type": "markdown", "metadata": {}, "source": ["# Импорт модулей и библиотек"]},
  {"cell_type": "markdown", "metadata": {}, "source": ["**Что такое модуль и библиотека?**\n\nМодуль — это файл с кодом Python, который можно подключить к своей программе. Библиотека — это набор модулей для определённых задач."]},
  {"cell_type": "markdown", "metadata": {}, "source": ["## Импорт стандартных модулей\n\n```python\nimport math\nimport random\n```"]},
  {"cell_type": "code", "execution_count": null, "metadata": {}, "outputs": [], "source": ["# Пример: импорт и использование модуля\nimport math\nprint(math.sqrt(16))"]},
  {"cell_type": "markdown", "metadata": {}, "source": ["## Импорт отдельных функций и переименование\n\n```python\nfrom math import sqrt, pi\nfrom random import randint as rnd\n```"]},
  {"cell_type": "code", "execution_count": null, "metadata": {}, "outputs": [], "source": ["# Пример: from ... import\nfrom math import pi\nprint(pi)"]},
  {"cell_type": "code", "execution_count": null, "metadata": {}, "outputs": [], "source": ["# Пример: импорт с псевдонимом\nimport random as rnd\nprint(rnd.randint(1, 10))"]},
  {"cell_type": "markdown", "metadata": {}, "source": ["## Импорт своих модулей\n\nЕсли есть файл mymodule.py, его можно импортировать:\n\n```python\nimport mymodule\n```\n\nФайл должен быть в той же папке или в PYTHONPATH."]},
  {"cell_type": "markdown", "metadata": {}, "source": ["## Установка сторонних библиотек\n\nДля установки новых библиотек используют pip (в командной строке):\n\n```bash\npip install requests\n```"]},
  {"cell_type": "code", "execution_count": null, "metadata": {}, "outputs": [], "source": ["# Пример: импорт установленной библиотеки\nimport requests\nprint(requests.__version__)"]},
  {"cell_type": "markdown", "metadata": {}, "source": ["## Проверка установленных библиотек\n\n```python\nhelp('modules')\n```"]},
  {"cell_type": "markdown", "metadata": {}, "source": ["## Типичные ошибки и примеры"]},
  {"cell_type": "code", "execution_count": null, "metadata": {}, "outputs": [], "source": ["# Ошибка: модуль не найден\ntry:\n    import notamodule\nexcept ModuleNotFoundError as e:\n    print('Ошибка:', e)"]},
  {"cell_type": "code", "execution_count": null, "metadata": {}, "outputs": [], "source": ["# Ошибка: опечатка в имени\ntry:\n    import maths\nexcept ModuleNotFoundError as e:\n    print('Ошибка:', e)"]},
  {"cell_type": "markdown", "metadata": {}, "source": ["## Лайфхаки и советы\n\n- Импортируй только то, что нужно.\n- Используй псевдонимы для длинных имён (например, import numpy as np).\n- Не называй свои файлы именами стандартных модулей (например, random.py).\n- Для установки библиотек нужен интернет и pip.\n- Для документации по модулю используй help(имя_модуля)."]}
 ],
 "metadata": {
  "kernelspec": {"display_name": "Python 3", "language": "python", "name": "python3"},
  "language_info": {"name": "python", "version": "3.10"}
 },
 "nbformat": 4,
 "nbformat_minor": 5
}
