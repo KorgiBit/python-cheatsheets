{
 "cells": [
  {"cell_type": "markdown", "metadata": {}, "source": ["# Итераторы и генераторы"]},
  {"cell_type": "markdown", "metadata": {}, "source": ["**Что такое итератор?**\n\nИтератор — это объект, по которому можно проходить в цикле (for). Например, список, строка, файл.\n\n**Генератор** — это специальный итератор, который создаёт значения \"на лету\" с помощью ключевого слова yield."]},
  {"cell_type": "markdown", "metadata": {}, "source": ["## Итераторы в Python\n\n- Любой объект, у которого есть методы __iter__() и __next__(), является итератором.\n- Итераторы позволяют проходить по элементам коллекций по одному.\n- Итератор можно получить с помощью функции iter().\n- Следующее значение выдаёт next().\n\n**Пример:**"]},
  {"cell_type": "code", "execution_count": null, "metadata": {}, "outputs": [], "source": ["nums = [10, 20, 30]\nit = iter(nums)\nprint(next(it))\nprint(next(it))\nprint(next(it))\n# print(next(it))  # StopIteration"]},
  {"cell_type": "markdown", "metadata": {}, "source": ["## Создание собственного итератора\n\nМожно создать свой класс-итератор, реализовав методы __iter__ и __next__."]},
  {"cell_type": "code", "execution_count": null, "metadata": {}, "outputs": [], "source": ["class Counter:\n    def __init__(self, stop):\n        self.current = 0\n        self.stop = stop\n    def __iter__(self):\n        return self\n    def __next__(self):\n        if self.current < self.stop:\n            self.current += 1\n            return self.current\n        else:\n            raise StopIteration\n\nfor num in Counter(3):\n    print(num)"]},
  {"cell_type": "markdown", "metadata": {}, "source": ["## Генераторы\n\n- Генератор — это функция с yield.\n- Каждый вызов yield возвращает значение и "замораживает" функцию до следующего вызова.\n- Генераторы экономят память, так как значения создаются по мере необходимости.\n\n**Пример:**"]},
  {"cell_type": "code", "execution_count": null, "metadata": {}, "outputs": [], "source": ["def countdown(n):\n    while n > 0:\n        yield n\n        n -= 1\n\nfor i in countdown(3):\n    print(i)"]},
  {"cell_type": "markdown", "metadata": {}, "source": ["## Генераторные выражения\n\nПохожи на list comprehensions, но создают генератор, а не список.\n\n**Пример:**"]},
  {"cell_type": "code", "execution_count": null, "metadata": {}, "outputs": [], "source": ["gen = (x*x for x in range(5))\nfor val in gen:\n    print(val)"]},
  {"cell_type": "markdown", "metadata": {}, "source": ["## Применение генераторов\n\n- Обработка больших файлов построчно.\n- Генерация бесконечных последовательностей.\n- Ленивые вычисления."]},
  {"cell_type": "code", "execution_count": null, "metadata": {}, "outputs": [], "source": ["def even_numbers():\n    n = 0\n    while True:\n        yield n\n        n += 2\n\ng = even_numbers()\nfor _ in range(5):\n    print(next(g))"]},
  {"cell_type": "markdown", "metadata": {}, "source": ["## Типичные ошибки и примеры"]},
  {"cell_type": "code", "execution_count": null, "metadata": {}, "outputs": [], "source": ["# Ошибка: next() после конца\nnums = [1]\nit = iter(nums)\nprint(next(it))\ntry:\n    print(next(it))\nexcept StopIteration as e:\n    print('Ошибка:', e)"]},
  {"cell_type": "code", "execution_count": null, "metadata": {}, "outputs": [], "source": ["# Ошибка: забыли yield\ndef bad_gen():\n    return 1\n\ng = bad_gen()\nprint(type(g))"]},
  {"cell_type": "markdown", "metadata": {}, "source": ["## Лайфхаки и советы\n\n- Генераторы экономят память при работе с большими данными.\n- Для преобразования генератора в список используй list(gen).\n- Итераторы и генераторы можно использовать в циклах for.\n- Если нужен бесконечный поток данных — используй генератор.\n- Функция isinstance(obj, collections.abc.Iterator) проверяет, является ли объект итератором."]}
 ],
 "metadata": {
  "kernelspec": {"display_name": "Python 3", "language": "python", "name": "python3"},
  "language_info": {"name": "python", "version": "3.10"}
 },
 "nbformat": 4,
 "nbformat_minor": 5
}
