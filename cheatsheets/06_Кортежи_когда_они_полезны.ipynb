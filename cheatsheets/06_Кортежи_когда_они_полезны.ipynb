{
 "cells": [
  {"cell_type": "markdown", "metadata": {}, "source": ["# Кортежи: когда они полезны\n"]},
  {"cell_type": "markdown", "metadata": {}, "source": ["**Что это?**\n\nКортеж (tuple) — это как список, только нельзя менять элементы после создания. Идеально для хранения постоянных данных."]},
  {"cell_type": "markdown", "metadata": {}, "source": ["**Синтаксис**\n\n```python\nt = (1, 2, 3)\n# или без скобок\nt = 1, 2, 3\n```\n"]},
  {"cell_type": "markdown", "metadata": {}, "source": ["**Основные методы и приёмы**\n\n- `count(x)` — сколько раз x встречается\n- `index(x)` — индекс первого x\n- Распаковка: `a, b = (1, 2)`\n- Использование как ключи в словаре\n- Неизменяемость = безопасность данных\n- Можно вложить в set\n"]},
  {"cell_type": "code", "execution_count": null, "metadata": {}, "outputs": [], "source": ["# Пример: count и index\nt = (1, 2, 3, 2)\nprint('count 2:', t.count(2))\nprint('index 3:', t.index(3))\n"]},
  {"cell_type": "code", "execution_count": null, "metadata": {}, "outputs": [], "source": ["# Пример: распаковка\na, b, c = (10, 20, 30)\nprint('a:', a, 'b:', b, 'c:', c)\n"]},
  {"cell_type": "code", "execution_count": null, "metadata": {}, "outputs": [], "source": ["# Пример: кортеж как ключ в словаре\nd = {(1,2): 'a', (3,4): 'b'}\nprint(d[(1,2)])\n"]},
  {"cell_type": "code", "execution_count": null, "metadata": {}, "outputs": [], "source": ["# Пример: вложение в set\ns = set([(1,2), (3,4)])\nprint(s)\n"]},
  {"cell_type": "code", "execution_count": null, "metadata": {}, "outputs": [], "source": ["# Кортеж из одного элемента\nt = (5,)\nprint(type(t))  # <class 'tuple'>\n"]},
  {"cell_type": "code", "execution_count": null, "metadata": {}, "outputs": [], "source": ["# Использование * для распаковки\nt = (1, 2, 3, 4)\na, *b = t\nprint(a, b)  # 1 [2, 3, 4]\n"]},
  {"cell_type": "markdown", "metadata": {}, "source": ["**Типичные ошибки и примеры**\n"]},
  {"cell_type": "code", "execution_count": null, "metadata": {}, "outputs": [], "source": ["# Ошибка: кортеж нельзя изменить\nt = (1, 2, 3)\ntry:\n    t[0] = 5\nexcept TypeError as e:\n    print('Ошибка:', e)\n"]},
  {"cell_type": "code", "execution_count": null, "metadata": {}, "outputs": [], "source": ["# Ошибка: кортеж из одного элемента без запятой\nt = (1)\nprint(type(t))  # <class 'int'>\nt = (1,)\nprint(type(t))  # <class 'tuple'>\n"]},
  {"cell_type": "code", "execution_count": null, "metadata": {}, "outputs": [], "source": ["# Ошибка: скобки для выражения, а не кортежа\nt = (1 + 2)\nprint(t)  # t будет равен 3, а не кортежу!\n"]},
  {"cell_type": "markdown", "metadata": {}, "source": ["**Лайфхаки с важными советами**\n\n- Используй кортежи для данных, которые не должны меняться.\n- Можно быстро создавать неизменяемые наборы.\n- Для передачи координат, RGB и других фиксированных наборов — кортежи идеальны.\n- Не называй переменную `tuple`.\n- Для распаковки можно использовать `*`: `a, *b = (1, 2, 3)`\n"]}
 ],
 "metadata": {
  "kernelspec": {"display_name": "Python 3", "language": "python", "name": "python3"},
  "language_info": {"name": "python", "version": "3.10"}
 },
 "nbformat": 4,
 "nbformat_minor": 5
}
