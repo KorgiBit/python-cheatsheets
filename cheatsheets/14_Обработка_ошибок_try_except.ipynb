{
 "cells": [
  {"cell_type": "markdown", "metadata": {}, "source": ["# Обработка ошибок: try, except"]},
  {"cell_type": "markdown", "metadata": {}, "source": ["**Зачем нужна обработка ошибок?**\n\nОшибки (исключения) могут возникать при выполнении кода. Чтобы программа не завершалась аварийно, ошибки можно перехватывать и обрабатывать с помощью конструкции `try`-`except`."]},
  {"cell_type": "markdown", "metadata": {}, "source": ["## Синтаксис\n\n```python\ntry:\n    # опасный код\nexcept ТипОшибка:\n    # обработка ошибки\n```"]},
  {"cell_type": "code", "execution_count": null, "metadata": {}, "outputs": [], "source": ["# Пример: обработка деления на ноль\ntry:\n    x = 5 / 0\nexcept ZeroDivisionError:\n    print('Делить на ноль нельзя!')"]},
  {"cell_type": "code", "execution_count": null, "metadata": {}, "outputs": [], "source": ["# Пример: обработка нескольких ошибок\ntry:\n    a = int('abc')\n    b = 5 / 0\nexcept ValueError:\n    print('Ошибка преобразования!')\nexcept ZeroDivisionError:\n    print('Ошибка деления!')"]},
  {"cell_type": "code", "execution_count": null, "metadata": {}, "outputs": [], "source": ["# Пример: обработка всех ошибок\ntry:\n    lst = [1, 2]\n    print(lst[5])\nexcept Exception as e:\n    print('Произошла ошибка:', e)"]},
  {"cell_type": "markdown", "metadata": {}, "source": ["## else и finally\n\n- `else` — выполняется, если не было ошибок.\n- `finally` — выполняется всегда (например, для закрытия файла).\n"]},
  {"cell_type": "code", "execution_count": null, "metadata": {}, "outputs": [], "source": ["# Пример: else и finally\ntry:\n    print('Всё хорошо!')\nexcept:\n    print('Ошибка!')\nelse:\n    print('Код без ошибок')\nfinally:\n    print('Блок finally всегда выполняется')"]},
  {"cell_type": "markdown", "metadata": {}, "source": ["## Создание своих исключений\n\nМожно создавать собственные ошибки с помощью raise:"]},
  {"cell_type": "code", "execution_count": null, "metadata": {}, "outputs": [], "source": ["# Пример: raise\ndef divide(a, b):\n    if b == 0:\n        raise ValueError('Деление на ноль!')\n    return a / b\ntry:\n    divide(10, 0)\nexcept ValueError as e:\n    print('Ошибка:', e)"]},
  {"cell_type": "markdown", "metadata": {}, "source": ["## Типичные ошибки и примеры"]},
  {"cell_type": "code", "execution_count": null, "metadata": {}, "outputs": [], "source": ["# Ошибка: except без типа\ntry:\n    1 / 0\nexcept:\n    print('Ошибка!')"]},
  {"cell_type": "code", "execution_count": null, "metadata": {}, "outputs": [], "source": ["# Ошибка: пропущен except\ntry:\n    x = 1\nfinally:\n    print('finally')"]},
  {"cell_type": "markdown", "metadata": {}, "source": ["## Лайфхаки и советы\n\n- Всегда указывай конкретные типы ошибок в except, если знаешь какие.\n- Не оставляй пустой except без необходимости.\n- finally удобно использовать для освобождения ресурсов (закрытие файлов и т.д.).\n- Можно получить текст ошибки через переменную после as (например, except Exception as e)."]}
 ],
 "metadata": {
  "kernelspec": {"display_name": "Python 3", "language": "python", "name": "python3"},
  "language_info": {"name": "python", "version": "3.10"}
 },
 "nbformat": 4,
 "nbformat_minor": 5
}
