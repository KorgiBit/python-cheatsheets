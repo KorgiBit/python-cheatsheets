{
 "cells": [
  {
   "cell_type": "markdown",
   "metadata": {},
   "source": [
    "## <div align=\"center\">Модули Pygame</div>\n",
    "\n",
    "<div align=\"center\">Модули библиотеки Pygame:</div>  \n"
   ]
  },
  {
   "cell_type": "markdown",
   "metadata": {},
   "source": [
    "\n",
    "| <div align=\"center\">**Модуль**</div> | <div align=\"center\">**Назначение**</div>  |    |\n",
    "|:------------------------------------|:------------------------------------------------|\n",
    "| pygame.cdrom  |     | Доступ к CD-приводам и управление ими  |   |   |   |   |   |\n",
    "| pygame.cursors  |   | Загружает изображения курсора  |   |   |   |   |   |   | |\n",
    "| pygame.display  |   | Доступ к дисплею  |   |   |   |   |   |   |   |   |    |\n",
    "| pygame.draw  |   | | Рисует фигуры, линии и точки  |   |   |   |   |   |   |  |\n",
    "| pygame.event  |     | Управление внешними событиями  |   |   |   |   |   |   | |\n",
    "| pygame.font  |   | | Использует системные шрифты  |   |   |   |   |   |   |   |\n",
    "| pygame.image  |     | Загружает и сохраняет изображения  |   |   |   |   |   |  |\n",
    "| pygame.joystick  |  | Использует джойстики и аналогичные устройства  |   |   |     |\n",
    "| pygame.key  |   |  | Считывает нажатия клавиш с клавиатуры  |   |   |   |   |   |\n",
    "| pygame.mixer  |     | Загружает и воспроизводит мелодии  |   |   |   |   |   |  |\n",
    "| pygame.mouse  |     | Управляет мышью  |   |   |   |   |   |   |   |   |     |\n",
    "| pygame.movie  |     | Воспроизведение видеофайлов  |   |   |   |   |   |   |   |\n",
    "| pygame.music  |     | Работает с музыкой и потоковым аудио  |   |   |   |   |    |\n",
    "| pygame.overlay  |   | Доступ к расширенным видеоизображениям  |   |   |   |   |  |\n",
    "| pygame  |   |   | | Содержит функции Pygame высокого уровня  |   |   |   |   | |\n",
    "| pygame.rect  |   | | Управляет прямоугольными областями  |   |   |   |   |   | |\n",
    "| pygame.sndarray  |  | Манипулирует звуковыми данными  |   |   |   |   |   |     |\n",
    "| pygame.sprite  |    | Управление движущимися изображениями  |   |   |   |   |    |\n",
    "| pygame.surface  |   | Управляет изображениями и экраном  |   |   |   |   |   |  |\n",
    "| pygame.surfarray  | | Манипулирует данными пикселей изображения  |   |   |   |    |\n",
    "| pygame.time  |   | | Модуль pygame для управления временем и частотой кадров  |     |\n",
    "| pygame.transform  | | Изменение размера и перемещение изображений  |   |   |   |  |\n"
   ]
  },
  {
   "cell_type": "markdown",
   "metadata": {},
   "source": [
    "## <div align=\"center\">Окно Pygame</div>"
   ]
  },
  {
   "cell_type": "code",
   "execution_count": null,
   "metadata": {},
   "outputs": [],
   "source": [
    "# Подключение библиотеки PyGame\n",
    "import pygame\n",
    "\n",
    "# Инициализация PyGame\n",
    "pygame.init()\n",
    "\n",
    "# Окно игры: размер, позиция\n",
    "gameScreen = pygame.display.set_mode((400, 300))\n",
    "\n",
    "# Модуль os — позиция окна\n",
    "import os\n",
    "x = 100\n",
    "y = 100\n",
    "os.environ['Sp_VIDEO_WINDOW_POS'] = \"%d,%d\" % (x,y)\n",
    "\n",
    "# Параметры окна\n",
    "size = [500, 500]\n",
    "screen = pygame.display.set_mode(size)\n",
    "pygame.display.set_caption(\"Test drawings\")\n",
    "gameScreen.fill((0,0,255))\n",
    "pygame.display.flip()"
   ]
  },
  {
   "cell_type": "markdown",
   "metadata": {},
   "source": [
    "## <div align=\"center\">Цикл игры, Выход из игры</div>"
   ]
  },
  {
   "cell_type": "code",
   "execution_count": null,
   "metadata": {},
   "outputs": [],
   "source": [
    "# Цикл игры\n",
    "runGame = True # флаг выхода из цикла игры\n",
    "while runGame:\n",
    "    # Отслеживание события: \"закрыть окно\"\n",
    "    for event in pygame.event.get():\n",
    "  |    if event.type == pygame.QUIT: runGame = False\n",
    "# Выход из игры: \n",
    "pygame.quit()"
   ]
  },
  {
   "cell_type": "markdown",
   "metadata": {},
   "source": [
    "## <div align=\"center\">Рисование базовых элементов</div>  \n",
    "## <div align=\"center\">Модуль pygame.draw</div>"
   ]
  },
  {
   "cell_type": "markdown",
   "metadata": {},
   "source": [
    "| <div align=\"center\">**Команда**</div> | <div align=\"center\">**Описание**</div>  |    |\n",
    "|:------------------------|:----------------------------------------------------|\n",
    "| pygame.draw.rect  | | нарисовать прямоугольную форму  |   |   |   |  |\n",
    "| pygame.draw.polygon  | фигуру с любым количеством сторон  |   |   |   |\n",
    "| pygame.draw.circle   | круг вокруг точки  |   |   |   |   |   |    |\n",
    "| pygame.draw.ellipse  | нарисовать круглую форму внутри прямоугольника    |\n",
    "| pygame.draw.arc  |  | нарисовать секцию эллипса  |   |   |   |   | |\n",
    "| pygame.draw.line  | | нарисовать сегмент прямой линии  |   |   |     |\n",
    "| pygame.draw.lines    | для рисования нескольких смежных отрезков  |    |\n",
    "| pygame.draw.aaline   | рисовать тонкую линию  |   |   |   |   |   | |\n",
    "| pygame.draw.aalines  | нарисовать связанную последовательность сглаженных линий |"
   ]
  },
  {
   "cell_type": "markdown",
   "metadata": {},
   "source": [
    "rect(Surface, color, Rect, wiph=0) -> Rect  \n",
    "polygon(Surface, color, pointlist, wiph=0) -> Rect  \n",
    "circle(Surface, color, pos, radius, wiph=0) -> Rect  \n",
    "ellipse(Surface, color, Rect, wiph=0) -> Rect  \n",
    "arc(Surface, color, Rect, start_angle, stop_angle, wiph=1) -> Rect  \n",
    "line(Surface, color, start_pos, end_pos, wiph=1) -> Rect  \n",
    "lines(Surface, color, closed, pointlist, wiph=1) -> Rect  \n",
    "aaline(Surface, color, startpos, endpos, blend=1) -> Rect  \n",
    "aalines(Surface, color, closed, pointlist, blend=1) -> Rect  "
   ]
  },
  {
   "cell_type": "markdown",
   "metadata": {},
   "source": [
    "## <div align=\"center\">Загрузка изображения</div>  "
   ]
  },
  {
   "cell_type": "code",
   "execution_count": null,
   "metadata": {},
   "outputs": [],
   "source": [
    "# Модуль pygame.image позволяет загрузить изображерие из файла и возвращает объект типа Surface.\n",
    "pygame.image.load(\"путь к файлу\" )\n",
    "# загрузить новое изображение из файла\n",
    "load(filename) -> Surface\n",
    "# Загрузить изображение (путь к файлу для Windows)\n",
    "myImage = pygame.image.load('images\\\\bg1.jpg')\n",
    "# определить место размещения\n",
    "myRect = (0,0,600,400)\n",
    "# выгрузить объект Surface, который содержит загруженное из файла изображение (myImage), в описанное место на экране (myRect)\n",
    "screen.blit(myImage,myRect)"
   ]
  },
  {
   "cell_type": "markdown",
   "metadata": {},
   "source": [
    "## <div align=\"center\">Объект Rect</div>  \n",
    "## <div align=\"center\">pygame.Rect</div>  "
   ]
  },
  {
   "cell_type": "markdown",
   "metadata": {},
   "source": [
    "Pygame использует объекты Rect для хранения и манипулирования прямоугольными областями. Rect может быть создан из комбинации значений слева, сверху, ширины и высоты. Rect также могут быть созданы из объектов python, которые уже являются Rect или имеют атрибут с именем «rect»."
   ]
  },
  {
   "cell_type": "code",
   "execution_count": null,
   "metadata": {},
   "outputs": [],
   "source": [
    "Rect(left, top, wiph, height) -> Rect\n",
    "Rect((left, top), (wiph, height)) -> Rect\n",
    "Rect(object) -> Rect"
   ]
  },
  {
   "cell_type": "markdown",
   "metadata": {},
   "source": [
    "## <div align=\"center\">Методы работы с Rect</div>  "
   ]
  },
  {
   "cell_type": "markdown",
   "metadata": {},
   "source": [
    "| <div align=\"center\">**Метод**</div> | <div align=\"center\">**Назначение**</div>  |    |\n",
    "|:------------------------------------|:------------------------------------------------|\n",
    "| pygame.Rect.copy\t| Возвращает новый прямоугольник, имеющий ту же позицию и размер, что и оригинал. |  \n",
    "| pygame.Rect.move\t| Возвращает новый прямоугольник, перемещаемый данным смещением. Аргументы x и y могут быть любым целочисленным значением, положительным или отрицательным.|  \n",
    "| pygame.Rect.move_ip |\tТо же, что и метод Rect.move (), но работает на месте. |  \n",
    "| pygame.Rect.inflate |\tувеличивать или уменьшать размер прямоугольника, на месте |  \n",
    "| pygame.Rect.inflate_ip |\tувеличивать или уменьшать размер прямоугольника, на месте |  \n",
    "| pygame.Rect.clamp\t | перемещает прямоугольник внутри другого |  \n",
    "| pygame.Rect.clamp_ip\t | перемещает прямоугольник внутри другого, на месте |  \n",
    "| pygame.Rect.clip\t | обрезает прямоугольник внутри другого |  \n",
    "| pygame.Rect.union\t | соединяет два прямоугольника в один |  \n",
    "| pygame.Rect.union_ip\t | соединяет два прямоугольника в один, на месте |  \n",
    "| pygame.Rect.unionall\t | объединение многих прямоугольников |  \n",
    "| pygame.Rect.unionall_ip\t | объединение многих прямоугольников, на месте |  \n",
    "| pygame.Rect.fit\t | изменить размер и переместить прямоугольник учмиывая соотношение сторон |  \n",
    "| pygame.Rect.normalize |\tкорректировать отрицательные размеры |  \n",
    "| pygame.Rect.contains\t | проверить, находится ли один прямоугольник внутри другого |  \n",
    "| pygame.Rect.collidepoint |\tпроверить, находится ли точка внутри прямоугольника |  \n",
    "| pygame.Rect.colliderect |\tтест, пересекаются ли два прямоугольника |  \n",
    "| pygame.Rect.collidelist |\tпроверить, пересекается ли хоть один прямоугольник в списке |  \n",
    "| pygame.Rect.collidelistall |\tпересекаются ли все прямоугольники в списке |  \n",
    "| pygame.Rect.collidedict |\tпроверить, если один прямоугольник в словаре пересекается |  \n",
    "| pygame.Rect.collidedictall |\tпересекаются ли все прямоугольники в словаре |  \n"
   ]
  },
  {
   "cell_type": "markdown",
   "metadata": {},
   "source": [
    "## <div align=\"center\">Обработка событий</div>  "
   ]
  },
  {
   "cell_type": "markdown",
   "metadata": {},
   "source": [
    "Событие — это то, как Pygame сообщает о том, что что-то случилось за пределами кода программы. События создаются, например, при нажатии клавиш клавиатуры, мыши и размещаются в очереди, дожидаясь обработки.  \n",
    "Функция get в модуле pygame.event возвращает последнее событие, ожидающее в очереди и удаляет его из очереди."
   ]
  },
  {
   "cell_type": "markdown",
   "metadata": {},
   "source": [
    "## <div align=\"center\">Объект event</div>  "
   ]
  },
  {
   "cell_type": "markdown",
   "metadata": {},
   "source": [
    "<div align=\"center\">Модуль pygame.event для обработки очереди событий</div>   "
   ]
  },
  {
   "cell_type": "markdown",
   "metadata": {},
   "source": [
    "| <div align=\"center\">**Метод**</div> | <div align=\"center\">**Назначение**</div>  |    |\n",
    "|:------------------------------------|:------------------------------------------------| \n",
    "| pygame.event.pump\t| \tЕсли вы не используете другие функции событий в своей игре, вы должны вызвать pygame.event.pump (), чтобы позволить pygame обрабатывать внутренние действия |\n",
    "| pygame.event.get\t| \tполучает события из очереди |\n",
    "| pygame.event.poll\t| \tполучить одно событие из очереди |\n",
    "| pygame.event.wait\t| \tждёт одиночного события из очереди |\n",
    "| pygame.event.peek\t\t| проверить, ждут ли очереди события определённого типа |\n",
    "| pygame.event.clear\t| \tудалить все события из очереди |\n",
    "| pygame.event.event_name\t| \tвозвращает имя для типа события. Строка находится в стиле WordCap |\n",
    "| pygame.event.set_blocked\t\t| проверяет, какие события не разрешены в очереди |\n",
    "| pygame.event.set_allowed\t| \tпроверяет, какие события разрешены в очереди |\n",
    "| pygame.event.get_blocked\t\t| проверить, заблокирован ли тип события из очереди |\n",
    "| pygame.event.set_grab\t| \tпроверяет совместное использование устройств ввода с другими приложениями |\n",
    "| pygame.event.get_grab\t| \tпроверить, работает ли программа на устройствах ввода данных |\n",
    "| pygame.event.post\t | поместить новое событие в очередь\t| \n",
    "| pygame.event.Event\t\t| создать новый объект события |\n",
    "| pygame.event.EventType\t\t| Объект Python, представляющий событие SDL. Экземпляры пользовательских событий создаются с вызовом функции Event. Тип EventType не может быть напрямую вызван. Экземпляры EventType поддерживают назначение и удаление атрибутов. |\n",
    "\n"
   ]
  },
  {
   "cell_type": "markdown",
   "metadata": {},
   "source": [
    "Pygame отслеживает все сообщения о событиях через очередь событий. Процедуры в этом модуле помогают управлять этой очередью событий. Входная очередь сильно зависит от модуля отображения (display) pygame. Если дисплей не был инициализирован и видеорежим не установлен, очередь событий не будет работать.  \n",
    "Существует множество способов доступа к очереди событий. Просто проверять существование событий, захватывать их непосредственно из стека."
   ]
  },
  {
   "cell_type": "markdown",
   "metadata": {},
   "source": [
    "## <div align=\"center\">Мышь</div>   \n",
    "<div align=\"center\">Модуль pygame.mouse для работы с мышью</div>   "
   ]
  },
  {
   "cell_type": "markdown",
   "metadata": {},
   "source": [
    "| <div align=\"center\">**Метод**</div> | <div align=\"center\">**Назначение**</div>  |    |\n",
    "|:------------------------------------|:------------------------------------------------| \n",
    "| pygame.mouse.get_pressed\t| получить состояние кнопок мыши\t|\n",
    "| pygame.mouse.get_pos\t| получить позицию курсора мыши\t|\n",
    "| pygame.mouse.get_rel\t| получить количество движений мыши\t|\n",
    "| pygame.mouse.set_pos\t| установить позицию курсора мыши\t|\n",
    "| pygame.mouse.set_visible\t| скрыть или показать курсор мыши\t|\n",
    "| pygame.mouse.get_focused\t| проверяет, принимает ли дисплей ввод мыши\t|\n",
    "| pygame.mouse.set_cursor\t| установить изображение для курсора мыши\t|\n",
    "| pygame.mouse.get_cursor\t| получить изображение для курсора мыши\t|"
   ]
  },
  {
   "cell_type": "markdown",
   "metadata": {},
   "source": [
    "Функции мыши можно использовать для получения текущего состояния устройства мышь. Эти функции также могут изменять курсор мыши.\n",
    "\n",
    "Когда режим отображения (display) установлен, очередь событий начнет принимать события мыши. Кнопки мыши генерируют события pygame.MOUSEBUTTONDOWN и pygame.MOUSEBUTTONUP, когда они нажимаются и отпускаются. Эти события содержат атрибут кнопки, указывающий, какая кнопка была нажата. Колесо мыши будет генерировать pygame.MOUSEBUTTONDOWN и pygame.MOUSEBUTTONUP события при прокрутке.\n",
    "\n",
    "Когда колесо повернуто вверх, кнопка будет установлена на 4, вниз -5. Всякий раз, когда мышь перемещается, генерируется событие pygame.MOUSEMOTION. Движение мыши разбито на небольшие и точные события движения. По мере перемещения мыши многие события движения будут помещены в очередь. События движения мыши, которые неправильно очищены от очереди событий, являются основной причиной того, что очередь событий заполняется."
   ]
  },
  {
   "cell_type": "markdown",
   "metadata": {},
   "source": [
    "Пример. Нарисовать курсор под текущей позицией мыши."
   ]
  },
  {
   "cell_type": "code",
   "execution_count": null,
   "metadata": {},
   "outputs": [],
   "source": [
    "x, y = pygame.mouse.get_pos()\n",
    "x -= mouse_cursor.get_width()/2\n",
    "y -= mouse_cursor.get_height()/2\n",
    "screen.blit(mouse_cursor, (x, y))"
   ]
  },
  {
   "cell_type": "markdown",
   "metadata": {},
   "source": [
    "Определить какая кнопка была нажата на мышке можно используя значение event.button:"
   ]
  },
  {
   "cell_type": "markdown",
   "metadata": {},
   "source": [
    "1 - left click\n",
    "2 - middle click\n",
    "3 - right click\n",
    "4 - scroll up\n",
    "5 - scroll down"
   ]
  },
  {
   "cell_type": "markdown",
   "metadata": {},
   "source": [
    "Координаты курсора при нажатии кнопки мыши находятся в event.pos."
   ]
  },
  {
   "cell_type": "markdown",
   "metadata": {},
   "source": [
    "Пример. Перемещать картинку курсором мыши."
   ]
  },
  {
   "cell_type": "code",
   "execution_count": null,
   "metadata": {},
   "outputs": [],
   "source": [
    "import pygame, sys, time\n",
    "from pygame.locals import *\n",
    "pygame.init()\n",
    "FPS=30\n",
    "fpsClock=pygame.time.Clock()\n",
    "width=500\n",
    "height=500\n",
    "mainSurface=pygame.display.set_mode((width,height),0,32)\n",
    "pygame.display.set_caption('Keyb moves')\n",
    "background=pygame.image.load('images//bg1.jpg')\n",
    "sprite=pygame.image.load('images//pict2.gif') \n",
    "# Place image to the center of mainSurface\n",
    "image_pos = ((mainSurface.get_width() - sprite.get_width())/2, (mainSurface.get_height() - sprite.get_height())/2)\n",
    "doMove = False\n",
    "# game loop\n",
    "while True:\n",
    "    fpsClock.tick(FPS) # frame rate\n",
    "    mainSurface.blit(background,(0,0))\n",
    "    \n",
    "    # get all events from the queue\n",
    "    for event in pygame.event.get():\n",
    "  |    # loop events queue\n",
    "  |    if event.type == QUIT:\n",
    "  |   |   # window close X pressed\n",
    "  |   |   pygame.quit()\n",
    "  |   |   sys.exit()\n",
    "  |    if event.type == KEYDOWN and event.key == K_ESCAPE:\n",
    "  |   |   # ESC key pressed\n",
    "  |   |   pygame.quit()\n",
    "  |   |   sys.exit()\n",
    "  |    if event.type == pygame.MOUSEBUTTONDOWN:\n",
    "  |   |   if event.button == 1:  #  левая кнопка мыши\n",
    "  |   |   |  doMove = True\n",
    "  |   |   if event.button == 3:  # правая кнопка мыши\n",
    "  |   |   |  image_pos = ((mainSurface.get_width() - sprite.get_width())/2, (mainSurface.get_height() - sprite.get_height())/2)\n",
    "  |   |   |  doMove = False\n",
    "  |    if event.type == pygame.MOUSEBUTTONUP: doMove = False\n",
    "  |   |   \n",
    "  |    if event.type == MOUSEMOTION and doMove:\n",
    "  |   |   image_pos = event.pos\n",
    "    mainSurface.blit(sprite,image_pos)\n",
    "    pygame.display.update()"
   ]
  },
  {
   "cell_type": "markdown",
   "metadata": {},
   "source": [
    "Клавиатура"
   ]
  },
  {
   "cell_type": "markdown",
   "metadata": {},
   "source": [
    "Модуль pygame.key"
   ]
  },
  {
   "cell_type": "markdown",
   "metadata": {},
   "source": [
    "Этот модуль содержит функции для работы с клавиатурой.Очередь событий получает события pygame.KEYDOWN и pygame.KEYUP при нажатии и отпускании клавиш клавиатуры.\n",
    "\n",
    "Оба события имеют ключевой атрибут, который представляет собой целочисленный идентификатор, представляющий каждую клавишу на клавиатуре.Событие pygame.KEYDOWN имеет дополнительные атрибуты: unicode и scancode. unicode представляет собой одну символьную строку, которая соответствует введённому символу. Scancode представляет собой код для конкретной платформы."
   ]
  },
  {
   "cell_type": "markdown",
   "metadata": {},
   "source": [
    "Получить код клавиши:"
   ]
  },
  {
   "cell_type": "code",
   "execution_count": null,
   "metadata": {},
   "outputs": [],
   "source": [
    "pressed_keys = pygame.key.get_pressed()\n",
    "if pressed_keys[K_SPACE]:\n",
    "# Space key has been pressed\n",
    "    fire()"
   ]
  },
  {
   "cell_type": "markdown",
   "metadata": {},
   "source": [
    "Существует много клавиатурных констант, они используются для представления клавиш на клавиатуре. Ниже приведен список всех клавиатурных констант:"
   ]
  },
  {
   "cell_type": "markdown",
   "metadata": {},
   "source": [
    "| <div align=\"center\">**KeyASCII**</div> | <div align=\"center\">**ASCII**</div>  |  <div align=\"center\">**CommonName**</div>  | \n",
    "|:------------------------------------|:------------------------------------------------|:------------------------------------------------|\n",
    "| K_BACKSPACE\t| \\b\t| backspace          |\n",
    "| K_TAB\t\t| \\t\t| tab                |\n",
    "| K_CLEAR\t| \t| clear              |\n",
    "| K_RETURN\t| \\r\t| return             |\n",
    "| K_PAUSE\t| \t| pause              | \n",
    "| K_ESCAPE\t| ^[\t| escape             |\n",
    "| K_SPACE\t| \t| space              |\n",
    "| K_EXCLAIM\t| !\t| exclaim            |\n",
    "| K_QUOTEDBL\t| «\t| quotedbl           |\n",
    "| K_HASH\t| #\t| hash               |\n",
    "| K_DOLLAR\t| $\t| dollar             |\n",
    "| K_AMPERSAND\t| &\t| ampersand          |\n",
    "| K_QUOTE\t| \t| quote              |\n",
    "| K_LEFTPAREN\t| (\t| leftparenthesis    |\n",
    "| K_RIGHTPAREN\t| )\t| rightparenthesis   |\n",
    "| K_ASTERISK\t| *\t| asterisk           |\n",
    "| K_PLUS\t| +\t| plussign           |\n",
    "| K_COMMA\t| ,\t| comma              |\n",
    "| K_MINUS\t| —\t| minussign          |\n",
    "| K_PERIOD\t| .\t| period             |\n",
    "| K_SLASH\t| /\t| forwardslash       |\n",
    "| K_0\t        | 0\t| 0                  |\n",
    "| K_1\t        | 1\t| 1                  |\n",
    "| K_2\t        | 2\t| 2                  |\n",
    "| K_3\t        | 3\t| 3                  |\n",
    "| K_4\t        | 4\t| 4                  |\n",
    "| K_5\t        | 5\t| 5                  |\n",
    "| K_6\t        | 6\t| 6                  |\n",
    "| K_7\t        | 7\t| 7                  |    \n",
    "| K_8\t        | 8\t| 8                  |    \n",
    "| K_9\t        | 9\t| 9                  |    \n",
    "| K_COLON\t| :\t| colon              |\n",
    "| K_SEMICOLON\t| ;\t| emicolon           |\n",
    "| K_LESS\t| \t| less-thansign      |\n",
    "| K_EQUALS\t| =\t| equalssign         |\n",
    "| K_GREATER\t| >\t| greater-thansign   |\n",
    "| K_QUESTION\t| ?\t| questionmark       |\n",
    "| K_AT\t        | @\t| at                 |\n",
    "| K_LEFTBRACKET\t| [\t| leftbracket        |\n",
    "| K_BACKSLASH\t| \\\t| backslash          |\n",
    "| K_RIGHTBRACKET| ]\t| rightbracket       |\n",
    "| K_CARET\t| ^\t| caret              |\n",
    "| K_UNDERSCORE\t| _\t| underscore         |\n",
    "| K_BACKQUOTE\t| `\t| grave              |\n",
    "| K_a\t        | a\t| a                  |\n",
    "| K_b\t        | b\t| b                  |\n",
    "| K_c\t        | c\t| c                  |\n",
    "| K_d\t        | d\t| d                  |\n",
    "| K_e\t        | e\t| e                  |\n",
    "| K_f\t        | f\t| f                  |\n",
    "| K_g\t        | g\t| g                  |\n",
    "| K_h\t        | h\t| h                  |\n",
    "| K_i\t        | i\t| i                  |\n",
    "| K_j\t        | j\t| j                  |\n",
    "| K_k\t        | k\t| k                  |\n",
    "| K_l\t        | l\t| l                  |\n",
    "| K_m\t        | m\t| m                  |\n",
    "| K_n\t        | n\t| n                  |\n",
    "| K_o\t        | o\t| o                  |\n",
    "| K_p\t        | p\t| p                  |\n",
    "| K_q\t        | q\t| q                  |\n",
    "| K_r\t        | r\t| r                  |\n",
    "| K_s\t        | s\t| s                  |\n",
    "| K_t\t        | t\t| t                  |\n",
    "| K_u\t        | u\t| u                  |\n",
    "| K_v\t        | v\t| v                  |\n",
    "| K_w\t        | w\t| w                  |\n",
    "| K_x\t        | x\t| x                  |\n",
    "| K_y\t        | y\t| y                  |\n",
    "| K_z\t        | z\t| z                  |\n",
    "| K_DELETE      | \t| delete             |\n",
    "| K_KP0c     \t| \t| keypad0            |\n",
    "| K_KP1     \t| \t| keypad1            |\n",
    "| K_KP2     \t| \t| keypad2            |\n",
    "| K_KP3     \t| \t| keypad3            |\n",
    "| K_KP4     \t| \t| keypad4            |\n",
    "| K_KP5     \t| \t| keypad5            |\n",
    "| K_KP6     \t| \t| keypad6            |\n",
    "| K_KP7     \t| \t| keypad7            |\n",
    "| K_KP8     \t| \t| keypad8            |\n",
    "| K_KP9     \t| \t| keypad9            |\n",
    "| K_KP_PERIOD\t| .\t| keypadperiod       |\n",
    "| K_KP_DIVIDE\t| /\t| keypaddivide       |\n",
    "| K_KP_MULTIPLY\t| *\t| keypadmultiply     |\n",
    "| K_KP_MINUS\t| —\t| keypadminus        |\n",
    "| K_KP_PLUS\t| +\t| keypadplus         |\n",
    "| K_KP_ENTER\t| \\r\t| keypadenter        |\n",
    "| K_KP_EQUALS\t| =\t| keypadequals       |\n",
    "| K_UP\t\t|       | uparrow            |\n",
    "| K_DOWN\t| \t| downarrow          |\n",
    "| K_RIGHT\t| \t| rightarrow         |\n",
    "| K_LEFT\t| \t| leftarrow          |\n",
    "| K_INSERT\t| \t| insert             |\n",
    "| K_HOME\t| \t| home               |\n",
    "| K_END\t\t|       | end                |\n",
    "| K_PAGEUP\t| \t| pageup             |\n",
    "| K_PAGEDOWN\t| \t| pagedown           |\n",
    "| K_F1\t\t| F1    |                    | \n",
    "| K_F2\t\t| F2    |                    | \n",
    "| K_F3\t\t| F3    |                    | \n",
    "| K_F4\t\t| F4    |                    | \n",
    "| K_F5\t\t| F5    |                    | \n",
    "| K_F6\t\t| F6    |                    | \n",
    "| K_F7\t\t| F7    |                    | \n",
    "| K_F8\t\t| F8    |                    | \n",
    "| K_F9\t\t| F9    |                    | \n",
    "| K_F10\t\t| F10   |                    | \n",
    "| K_F11\t\t| F11   |                    | \n",
    "| K_F12\t\t| F12   |                    | \n",
    "| K_F13\t\t| F13   |                    | \n",
    "| K_F14\t\t| F14   |                    | \n",
    "| K_F15\t\t| F15   |                    | \n",
    "| K_NUMLOCK\t| \t| numlock            |\n",
    "| K_CAPSLOCK\t| \t| capslock           |\n",
    "| K_SCROLLOCK\t| \t| scrollock          |\n",
    "| K_RSHIFT\t| \t| rightshift         |\n",
    "| K_LSHIFT\t| \t| leftshift          |\n",
    "| K_RCTRL\t| \t| rightcontrol       |\n",
    "| K_LCTRL\t| \t| leftcontrol        |\n",
    "| K_RALT\t| \t| rightalt           |\n",
    "| K_LALT\t| \t| leftalt            |\n",
    "| K_RMETA\t| \t| rightmeta          |\n",
    "| K_LMETA\t| \t| leftmeta           |\n",
    "| K_LSUPER\t| \t| leftWindowskey     |\n",
    "| K_RSUPER\t| \t| rightWindowskey    |\n",
    "| K_MODE\t| \t| modeshift          |\n",
    "| K_HELP\t| \t| help               |\n",
    "| K_PRINT\t| \t| printscreen        |\n",
    "| K_SYSREQ\t| \t| sysrq              |\n",
    "| K_BREAK\t| \t| break              |\n",
    "| K_MENU\t| \t| menu               |\n",
    "| K_POWER\t| \t| power              |\n",
    "| K_EURO\t| \t| Euro               |"
   ]
  }
 ],
 "metadata": {
  "kernelspec": {
   "display_name": "Python 3",
   "language": "python",
   "name": "python3"
  },
  "language_info": {
   "name": "python",
   "version": "3.13.3"
  }
 },
 "nbformat": 4,
 "nbformat_minor": 2
}
