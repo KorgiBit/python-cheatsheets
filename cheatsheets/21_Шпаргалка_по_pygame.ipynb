{
 "cells": [
  {
   "cell_type": "markdown",
   "metadata": {},
   "source": [
    "## <div align=\"center\">Модули Pygame</div>\n",
    "\n",
    "<div align=\"center\">Модули библиотеки Pygame:</div>  \n"
   ]
  },
  {
   "cell_type": "markdown",
   "metadata": {},
   "source": [
    "\n",
    "| <div align=\"center\">**Модуль**</div> | <div align=\"center\">**Назначение**</div>  |\n",
    "|:------------------------------------|:------------------------------------------------|\n",
    "| pygame.cdrom     | Доступ к CD-приводам и управление ими                    |\n",
    "| pygame.cursors   | Загружает изображения курсора                            |\n",
    "| pygame.display   | Доступ к дисплею                                         |  \n",
    "| pygame.draw      | Рисует фигуры, линии и точки                             |  \n",
    "| pygame.event     | Управление внешними событиями                            |  \n",
    "| pygame.font      | Использует системные шрифты                              |  \n",
    "| pygame.image     | Загружает и сохраняет изображения                        |  \n",
    "| pygame.joystick  | Использует джойстики и аналогичные устройства            | \n",
    "| pygame.key       | Считывает нажатия клавиш с клавиатуры                    |  \n",
    "| pygame.mixer     | Загружает и воспроизводит мелодии                        |  \n",
    "| pygame.mouse     | Управляет мышью                                          |   \n",
    "| pygame.movie     | Воспроизведение видеофайлов                              |  \n",
    "| pygame.music     | Работает с музыкой и потоковым аудио                     |   \n",
    "| pygame           | Содержит функции Pygame высокого уровня                  | \n",
    "| pygame.rect      | Управляет прямоугольными областями                       |  \n",
    "| pygame.sndarray  | Манипулирует звуковыми данными                           |  \n",
    "| pygame.sprite    | Управление движущимися изображениями                     |\n",
    "| pygame.surface   | Управляет изображениями и экраном                        |\n",
    "| pygame.surfarray | Манипулирует данными пикселей изображения                |\n",
    "| pygame.time      | Модуль pygame для управления временем и частотой кадров  |\n",
    "| pygame.transform | Изменение размера и перемещение изображений              |\n"
   ]
  },
  {
   "cell_type": "markdown",
   "metadata": {},
   "source": [
    "## <div align=\"center\">Окно Pygame</div>"
   ]
  },
  {
   "cell_type": "code",
   "execution_count": null,
   "metadata": {},
   "outputs": [],
   "source": [
    "# Подключение библиотеки PyGame\n",
    "import pygame\n",
    "\n",
    "# Инициализация PyGame\n",
    "pygame.init()\n",
    "\n",
    "# Окно игры: размер, позиция\n",
    "gameScreen = pygame.display.set_mode((400, 300))\n",
    "\n",
    "# Модуль os — позиция окна\n",
    "import os\n",
    "x = 100\n",
    "y = 100\n",
    "os.environ['Sp_VIDEO_WINDOW_POS'] = \"%d,%d\" % (x,y)\n",
    "\n",
    "# Параметры окна\n",
    "size = [500, 500]\n",
    "screen = pygame.display.set_mode(size)\n",
    "pygame.display.set_caption(\"Test drawings\")\n",
    "gameScreen.fill((0,0,255))\n",
    "pygame.display.flip()"
   ]
  },
  {
   "cell_type": "markdown",
   "metadata": {},
   "source": [
    "## <div align=\"center\">Цикл игры, Выход из игры</div>"
   ]
  },
  {
   "cell_type": "code",
   "execution_count": null,
   "metadata": {},
   "outputs": [],
   "source": [
    "# Цикл игры\n",
    "runGame = True # флаг выхода из цикла игры\n",
    "while runGame:\n",
    "    # Отслеживание события: \"закрыть окно\"\n",
    "    for event in pygame.event.get():\n",
    "  |    if event.type == pygame.QUIT: runGame = False\n",
    "# Выход из игры: \n",
    "pygame.quit()"
   ]
  },
  {
   "cell_type": "markdown",
   "metadata": {},
   "source": [
    "## <div align=\"center\">Рисование базовых элементов</div>  \n",
    "## <div align=\"center\">Модуль pygame.draw</div>"
   ]
  },
  {
   "cell_type": "markdown",
   "metadata": {},
   "source": [
    "| <div align=\"center\">**Команда**</div> | <div align=\"center\">**Описание**</div>  |\n",
    "|:------------------------|:----------------------------------------------------|\n",
    "| pygame.draw.rect     | нарисовать прямоугольную форму                           |\n",
    "| pygame.draw.polygon  | фигуру с любым количеством сторон                        |\n",
    "| pygame.draw.circle   | круг вокруг точки                                        |\n",
    "| pygame.draw.ellipse  | нарисовать круглую форму внутри прямоугольника           |\n",
    "| pygame.draw.arc      | нарисовать секцию эллипса                                |\n",
    "| pygame.draw.line     | нарисовать сегмент прямой линии                          |\n",
    "| pygame.draw.lines    | для рисования нескольких смежных отрезков                |\n",
    "| pygame.draw.aaline   | рисовать тонкую линию                                    |\n",
    "| pygame.draw.aalines  | нарисовать связанную последовательность сглаженных линий |"
   ]
  },
  {
   "cell_type": "markdown",
   "metadata": {},
   "source": [
    "rect(Surface, color, Rect, wiph=0) -> Rect  \n",
    "polygon(Surface, color, pointlist, wiph=0) -> Rect  \n",
    "circle(Surface, color, pos, radius, wiph=0) -> Rect  \n",
    "ellipse(Surface, color, Rect, wiph=0) -> Rect  \n",
    "arc(Surface, color, Rect, start_angle, stop_angle, wiph=1) -> Rect  \n",
    "line(Surface, color, start_pos, end_pos, wiph=1) -> Rect  \n",
    "lines(Surface, color, closed, pointlist, wiph=1) -> Rect  \n",
    "aaline(Surface, color, startpos, endpos, blend=1) -> Rect  \n",
    "aalines(Surface, color, closed, pointlist, blend=1) -> Rect  "
   ]
  },
  {
   "cell_type": "markdown",
   "metadata": {},
   "source": [
    "## <div align=\"center\">Загрузка изображения</div>  "
   ]
  },
  {
   "cell_type": "code",
   "execution_count": null,
   "metadata": {},
   "outputs": [],
   "source": [
    "# Модуль pygame.image позволяет загрузить изображерие из файла и возвращает объект типа Surface.\n",
    "pygame.image.load(\"путь к файлу\" )\n",
    "# загрузить новое изображение из файла\n",
    "load(filename) -> Surface\n",
    "# Загрузить изображение (путь к файлу для Windows)\n",
    "myImage = pygame.image.load('images\\\\bg1.jpg')\n",
    "# определить место размещения\n",
    "myRect = (0,0,600,400)\n",
    "# выгрузить объект Surface, который содержит загруженное из файла изображение (myImage), в описанное место на экране (myRect)\n",
    "screen.blit(myImage,myRect)"
   ]
  },
  {
   "cell_type": "markdown",
   "metadata": {},
   "source": [
    "## <div align=\"center\">Объект Rect</div>  \n",
    "## <div align=\"center\">pygame.Rect</div>  "
   ]
  },
  {
   "cell_type": "markdown",
   "metadata": {},
   "source": [
    "Pygame использует объекты Rect для хранения и манипулирования прямоугольными областями. Rect может быть создан из комбинации значений слева, сверху, ширины и высоты. Rect также могут быть созданы из объектов python, которые уже являются Rect или имеют атрибут с именем «rect»."
   ]
  },
  {
   "cell_type": "code",
   "execution_count": null,
   "metadata": {},
   "outputs": [],
   "source": [
    "Rect(left, top, wiph, height) -> Rect\n",
    "Rect((left, top), (wiph, height)) -> Rect\n",
    "Rect(object) -> Rect"
   ]
  },
  {
   "cell_type": "markdown",
   "metadata": {},
   "source": [
    "## <div align=\"center\">Методы работы с Rect</div>  "
   ]
  },
  {
   "cell_type": "markdown",
   "metadata": {},
   "source": [
    "| <div align=\"center\">**Метод**</div> | <div align=\"center\">**Назначение**</div>  |\n",
    "|:------------------------------------|:------------------------------------------------|\n",
    "| pygame.Rect.copy\t| Возвращает новый прямоугольник, имеющий ту же позицию и размер, что и оригинал. |  \n",
    "| pygame.Rect.move\t| Возвращает новый прямоугольник, перемещаемый данным смещением. Аргументы x и y могут быть любым целочисленным значением, положительным или отрицательным.|  \n",
    "| pygame.Rect.move_ip |\tТо же, что и метод Rect.move (), но работает на месте. |  \n",
    "| pygame.Rect.inflate |\tувеличивать или уменьшать размер прямоугольника, на месте |  \n",
    "| pygame.Rect.inflate_ip |\tувеличивать или уменьшать размер прямоугольника, на месте |  \n",
    "| pygame.Rect.clamp\t | перемещает прямоугольник внутри другого |  \n",
    "| pygame.Rect.clamp_ip\t | перемещает прямоугольник внутри другого, на месте |  \n",
    "| pygame.Rect.clip\t | обрезает прямоугольник внутри другого |  \n",
    "| pygame.Rect.union\t | соединяет два прямоугольника в один |  \n",
    "| pygame.Rect.union_ip\t | соединяет два прямоугольника в один, на месте |  \n",
    "| pygame.Rect.unionall\t | объединение многих прямоугольников |  \n",
    "| pygame.Rect.unionall_ip\t | объединение многих прямоугольников, на месте |  \n",
    "| pygame.Rect.fit\t | изменить размер и переместить прямоугольник учмиывая соотношение сторон |  \n",
    "| pygame.Rect.normalize |\tкорректировать отрицательные размеры |  \n",
    "| pygame.Rect.contains\t | проверить, находится ли один прямоугольник внутри другого |  \n",
    "| pygame.Rect.collidepoint |\tпроверить, находится ли точка внутри прямоугольника |  \n",
    "| pygame.Rect.colliderect |\tтест, пересекаются ли два прямоугольника |  \n",
    "| pygame.Rect.collidelist |\tпроверить, пересекается ли хоть один прямоугольник в списке |  \n",
    "| pygame.Rect.collidelistall |\tпересекаются ли все прямоугольники в списке |  \n",
    "| pygame.Rect.collidedict |\tпроверить, если один прямоугольник в словаре пересекается |  \n",
    "| pygame.Rect.collidedictall |\tпересекаются ли все прямоугольники в словаре |  \n"
   ]
  },
  {
   "cell_type": "markdown",
   "metadata": {},
   "source": [
    "## <div align=\"center\">Обработка событий</div>  "
   ]
  },
  {
   "cell_type": "markdown",
   "metadata": {},
   "source": [
    "Событие — это то, как Pygame сообщает о том, что что-то случилось за пределами кода программы. События создаются, например, при нажатии клавиш клавиатуры, мыши и размещаются в очереди, дожидаясь обработки.  \n",
    "Функция get в модуле pygame.event возвращает последнее событие, ожидающее в очереди и удаляет его из очереди."
   ]
  },
  {
   "cell_type": "markdown",
   "metadata": {},
   "source": [
    "## <div align=\"center\">Объект event</div>  "
   ]
  },
  {
   "cell_type": "markdown",
   "metadata": {},
   "source": [
    "<div align=\"center\">Модуль pygame.event для обработки очереди событий</div>   "
   ]
  },
  {
   "cell_type": "markdown",
   "metadata": {},
   "source": [
    "| <div align=\"center\">**Метод**</div> | <div align=\"center\">**Назначение**</div>  |\n",
    "|:------------------------------------|:------------------------------------------------| \n",
    "| pygame.event.pump\t        | \tЕсли вы не используете другие функции событий в своей игре, вы должны вызвать pygame.event.pump (), чтобы позволить pygame обрабатывать внутренние действия |\n",
    "| pygame.event.get         \t| \tполучает события из очереди                                               |\n",
    "| pygame.event.poll\t        | \tполучить одно событие из очереди                                          |\n",
    "| pygame.event.wait     \t| \tждёт одиночного события из очереди                                        |\n",
    "| pygame.event.peek\t\t    | проверить, ждут ли очереди события определённого типа                       |\n",
    "| pygame.event.clear\t    | \tудалить все события из очереди                                            |\n",
    "| pygame.event.event_name\t| \tвозвращает имя для типа события. Строка находится в стиле WordCap         |\n",
    "| pygame.event.set_blocked\t| проверяет, какие события не разрешены в очереди                             |\n",
    "| pygame.event.set_allowed\t| \tпроверяет, какие события разрешены в очереди                              |\n",
    "| pygame.event.get_blocked\t| проверить, заблокирован ли тип события из очереди                           |\n",
    "| pygame.event.set_grab\t    | \tпроверяет совместное использование устройств ввода с другими приложениями |\n",
    "| pygame.event.get_grab\t    | \tпроверить, работает ли программа на устройствах ввода данных              |\n",
    "| pygame.event.post\t        | поместить новое событие в очередь\t                                          | \n",
    "| pygame.event.Event\t\t| создать новый объект события                                                |\n",
    "| pygame.event.EventType\t| Объект Python, представляющий событие SDL. Экземпляры пользовательских событий создаются с вызовом функции Event. Тип EventType не может быть напрямую вызван. Экземпляры EventType поддерживают назначение и удаление атрибутов. |\n",
    "\n"
   ]
  },
  {
   "cell_type": "markdown",
   "metadata": {},
   "source": [
    "Pygame отслеживает все сообщения о событиях через очередь событий. Процедуры в этом модуле помогают управлять этой очередью событий. Входная очередь сильно зависит от модуля отображения (display) pygame. Если дисплей не был инициализирован и видеорежим не установлен, очередь событий не будет работать.  \n",
    "Существует множество способов доступа к очереди событий. Просто проверять существование событий, захватывать их непосредственно из стека."
   ]
  },
  {
   "cell_type": "markdown",
   "metadata": {},
   "source": [
    "## <div align=\"center\">Мышь</div>   \n",
    "<div align=\"center\">Модуль pygame.mouse для работы с мышью</div>   "
   ]
  },
  {
   "cell_type": "markdown",
   "metadata": {},
   "source": [
    "| <div align=\"center\">**Метод**</div> | <div align=\"center\">**Назначение**</div>  |\n",
    "|:------------------------------------|:------------------------------------------------| \n",
    "| pygame.mouse.get_pressed\t| получить состояние кнопок мыши\t        |\n",
    "| pygame.mouse.get_pos\t    | получить позицию курсора мыши\t            |\n",
    "| pygame.mouse.get_rel\t    | получить количество движений мыши\t        |\n",
    "| pygame.mouse.set_pos\t    | установить позицию курсора мыши\t        |\n",
    "| pygame.mouse.set_visible\t| скрыть или показать курсор мыши\t        |\n",
    "| pygame.mouse.get_focused\t| проверяет, принимает ли дисплей ввод мыши\t|\n",
    "| pygame.mouse.set_cursor\t| установить изображение для курсора мыши\t|\n",
    "| pygame.mouse.get_cursor\t| получить изображение для курсора мыши\t    |"
   ]
  },
  {
   "cell_type": "markdown",
   "metadata": {},
   "source": [
    "Функции мыши можно использовать для получения текущего состояния устройства мышь. Эти функции также могут изменять курсор мыши.\n",
    "\n",
    "Когда режим отображения (display) установлен, очередь событий начнет принимать события мыши. Кнопки мыши генерируют события pygame.MOUSEBUTTONDOWN и pygame.MOUSEBUTTONUP, когда они нажимаются и отпускаются. Эти события содержат атрибут кнопки, указывающий, какая кнопка была нажата. Колесо мыши будет генерировать pygame.MOUSEBUTTONDOWN и pygame.MOUSEBUTTONUP события при прокрутке.\n",
    "\n",
    "Когда колесо повернуто вверх, кнопка будет установлена на 4, вниз -5. Всякий раз, когда мышь перемещается, генерируется событие pygame.MOUSEMOTION. Движение мыши разбито на небольшие и точные события движения. По мере перемещения мыши многие события движения будут помещены в очередь. События движения мыши, которые неправильно очищены от очереди событий, являются основной причиной того, что очередь событий заполняется."
   ]
  },
  {
   "cell_type": "markdown",
   "metadata": {},
   "source": [
    "Пример. Нарисовать курсор под текущей позицией мыши."
   ]
  },
  {
   "cell_type": "code",
   "execution_count": null,
   "metadata": {},
   "outputs": [],
   "source": [
    "x, y = pygame.mouse.get_pos()\n",
    "x -= mouse_cursor.get_width()/2\n",
    "y -= mouse_cursor.get_height()/2\n",
    "screen.blit(mouse_cursor, (x, y))"
   ]
  },
  {
   "cell_type": "markdown",
   "metadata": {},
   "source": [
    "Определить какая кнопка была нажата на мышке можно используя значение event.button:"
   ]
  },
  {
   "cell_type": "markdown",
   "metadata": {},
   "source": [
    "1 - left click\n",
    "2 - middle click\n",
    "3 - right click\n",
    "4 - scroll up\n",
    "5 - scroll down"
   ]
  },
  {
   "cell_type": "markdown",
   "metadata": {},
   "source": [
    "Координаты курсора при нажатии кнопки мыши находятся в event.pos."
   ]
  },
  {
   "cell_type": "markdown",
   "metadata": {},
   "source": [
    "Пример. Перемещать картинку курсором мыши."
   ]
  },
  {
   "cell_type": "code",
   "execution_count": null,
   "metadata": {},
   "outputs": [],
   "source": [
    "import pygame, sys, time\n",
    "from pygame.locals import *\n",
    "pygame.init()\n",
    "FPS=30\n",
    "fpsClock=pygame.time.Clock()\n",
    "width=500\n",
    "height=500\n",
    "mainSurface=pygame.display.set_mode((width,height),0,32)\n",
    "pygame.display.set_caption('Keyb moves')\n",
    "background=pygame.image.load('images//bg1.jpg')\n",
    "sprite=pygame.image.load('images//pict2.gif') \n",
    "# Place image to the center of mainSurface\n",
    "image_pos = ((mainSurface.get_width() - sprite.get_width())/2, (mainSurface.get_height() - sprite.get_height())/2)\n",
    "doMove = False\n",
    "# game loop\n",
    "while True:\n",
    "    fpsClock.tick(FPS) # frame rate\n",
    "    mainSurface.blit(background,(0,0))\n",
    "    \n",
    "    # get all events from the queue\n",
    "    for event in pygame.event.get():\n",
    "        # loop events queue\n",
    "        if event.type == QUIT:\n",
    "            # window close X pressed\n",
    "            pygame.quit()\n",
    "            sys.exit()\n",
    "        if event.type == KEYDOWN and event.key == K_ESCAPE:\n",
    "            # ESC key pressed\n",
    "            pygame.quit()\n",
    "            sys.exit()\n",
    "        if event.type == pygame.MOUSEBUTTONDOWN:\n",
    "            if event.button == 1:  #  левая кнопка мыши\n",
    "                doMove = True\n",
    "            if event.button == 3:  # правая кнопка мыши\n",
    "                image_pos = ((mainSurface.get_width() - sprite.get_width())/2, (mainSurface.get_height() - sprite.get_height())/2)\n",
    "                doMove = False\n",
    "        if event.type == pygame.MOUSEBUTTONUP: doMove = False\n",
    "            \n",
    "        if event.type == MOUSEMOTION and doMove:\n",
    "            image_pos = event.pos\n",
    "    mainSurface.blit(sprite,image_pos)\n",
    "    pygame.display.update()"
   ]
  },
  {
   "cell_type": "markdown",
   "metadata": {},
   "source": [
    "## <div align=\"center\">Клавиатура Pygame</div> "
   ]
  },
  {
   "cell_type": "markdown",
   "metadata": {},
   "source": [
    "<div align=\"center\">Модуль pygame.key</div>\n"
   ]
  },
  {
   "cell_type": "markdown",
   "metadata": {},
   "source": [
    "Этот модуль содержит функции для работы с клавиатурой.Очередь событий получает события pygame.KEYDOWN и pygame.KEYUP при нажатии и отпускании клавиш клавиатуры.\n",
    "\n",
    "Оба события имеют ключевой атрибут, который представляет собой целочисленный идентификатор, представляющий каждую клавишу на клавиатуре.Событие pygame.KEYDOWN имеет дополнительные атрибуты: unicode и scancode. unicode представляет собой одну символьную строку, которая соответствует введённому символу. Scancode представляет собой код для конкретной платформы."
   ]
  },
  {
   "cell_type": "markdown",
   "metadata": {},
   "source": [
    "Получить код клавиши:"
   ]
  },
  {
   "cell_type": "code",
   "execution_count": null,
   "metadata": {},
   "outputs": [],
   "source": [
    "pressed_keys = pygame.key.get_pressed()\n",
    "if pressed_keys[K_SPACE]:\n",
    "# Space key has been pressed\n",
    "    fire()"
   ]
  },
  {
   "cell_type": "markdown",
   "metadata": {},
   "source": [
    "Существует много клавиатурных констант, они используются для представления клавиш на клавиатуре. Ниже приведен список всех клавиатурных констант:"
   ]
  },
  {
   "cell_type": "markdown",
   "metadata": {},
   "source": [
    "| <div align=\"center\">**KeyASCII**</div> | <div align=\"center\">**ASCII**</div>  |  <div align=\"center\">**CommonName**</div>  | \n",
    "|:------------------------------------|:------------------------------------------------|:------------------------------------------------|\n",
    "| K_BACKSPACE\t| \\b\t| backspace          |\n",
    "| K_TAB\t\t    | \\t\t| tab                |\n",
    "| K_CLEAR\t    | \t    | clear              |\n",
    "| K_RETURN\t    | \\r\t| return             |\n",
    "| K_PAUSE\t  \t|       | pause              | \n",
    "| K_ESCAPE\t    | ^[\t| escape             |\n",
    "| K_SPACE\t \t|       | space              |\n",
    "| K_EXCLAIM\t    | !\t    | exclaim            |\n",
    "| K_QUOTEDBL\t| «\t    | quotedbl           |\n",
    "| K_HASH\t    | #\t    | hash               |\n",
    "| K_DOLLAR\t    | $\t    | dollar             |\n",
    "| K_AMPERSAND\t| &\t    | ampersand          |\n",
    "| K_QUOTE\t    | \t\t| quote              |\n",
    "| K_LEFTPAREN\t| (     | leftparenthesis    |\n",
    "| K_RIGHTPAREN\t| )\t    | rightparenthesis   |\n",
    "| K_ASTERISK\t| *\t    | asterisk           |\n",
    "| K_PLUS\t    | +\t    | plussign           |\n",
    "| K_COMMA\t    | ,\t    | comma              |\n",
    "| K_MINUS\t    | —\t    | minussign          |\n",
    "| K_PERIOD\t    | .\t    | period             |\n",
    "| K_SLASH\t    | /\t    | forwardslash       |\n",
    "| K_0\t        | 0\t    | 0                  |\n",
    "| K_1\t        | 1     | 1                  |\n",
    "| K_2\t        | 2\t    | 2                  |\n",
    "| K_3\t        | 3\t    | 3                  |\n",
    "| K_4\t        | 4\t    | 4                  |\n",
    "| K_5\t        | 5\t    | 5                  |\n",
    "| K_6\t        | 6\t    | 6                  |\n",
    "| K_7\t        | 7\t    | 7                  |    \n",
    "| K_8\t        | 8\t    | 8                  |    \n",
    "| K_9\t        | 9\t    | 9                  |    \n",
    "| K_COLON\t    | :\t    | colon              |\n",
    "| K_SEMICOLON\t| ;\t    | emicolon           |\n",
    "| K_LESS\t    | \t    | less-thansign      |\n",
    "| K_EQUALS\t    | =\t    | equalssign         |\n",
    "| K_GREATER\t    | >\t    | greater-thansign   |\n",
    "| K_QUESTION\t| ?\t    | questionmark       |\n",
    "| K_AT\t        | @\t    | at                 |\n",
    "| K_LEFTBRACKET\t| [\t    | leftbracket        |\n",
    "| K_BACKSLASH\t| \\\t    | backslash          |\n",
    "| K_RIGHTBRACKET| ]\t    | rightbracket       |\n",
    "| K_CARET\t    | ^\t    | caret              |\n",
    "| K_UNDERSCORE\t| _\t    | underscore         |\n",
    "| K_BACKQUOTE\t| `\t    | grave              |\n",
    "| K_a\t        | a\t    | a                  |\n",
    "| K_b\t        | b\t    | b                  |\n",
    "| K_c\t        | c\t    | c                  |\n",
    "| K_d\t        | d\t    | d                  |\n",
    "| K_e\t        | e\t    | e                  |\n",
    "| K_f\t        | f\t    | f                  |\n",
    "| K_g\t        | g\t    | g                  |\n",
    "| K_h\t        | h\t    | h                  |\n",
    "| K_i\t        | i\t    | i                  |\n",
    "| K_j\t        | j\t    | j                  |\n",
    "| K_k\t        | k\t    | k                  |\n",
    "| K_l\t        | l\t    | l                  |\n",
    "| K_m\t        | m\t    | m                  |\n",
    "| K_n\t        | n\t    | n                  |\n",
    "| K_o\t        | o\t    | o                  |\n",
    "| K_p\t        | p\t    | p                  |\n",
    "| K_q\t        | q\t    | q                  |\n",
    "| K_r\t        | r\t    | r                  |\n",
    "| K_s\t        | s\t    | s                  |\n",
    "| K_t\t        | t\t    | t                  |\n",
    "| K_u\t        | u\t    | u                  |\n",
    "| K_v\t        | v\t    | v                  |\n",
    "| K_w\t        | w\t    | w                  |\n",
    "| K_x\t        | x\t    | x                  |\n",
    "| K_y\t        | y\t    | y                  |\n",
    "| K_z\t        | z\t    | z                  |\n",
    "| K_DELETE      | \t    | delete             |\n",
    "| K_KP0c     \t| \t    | keypad0            |\n",
    "| K_KP1     \t| \t    | keypad1            |\n",
    "| K_KP2     \t| \t    | keypad2            |\n",
    "| K_KP3     \t| \t    | keypad3            |\n",
    "| K_KP4     \t| \t    | keypad4            |\n",
    "| K_KP5     \t| \t    | keypad5            |\n",
    "| K_KP6     \t| \t    | keypad6            |\n",
    "| K_KP7     \t| \t    | keypad7            |\n",
    "| K_KP8     \t| \t    | keypad8            |\n",
    "| K_KP9     \t| \t    | keypad9            |\n",
    "| K_KP_PERIOD\t| .\t    | keypadperiod       |\n",
    "| K_KP_DIVIDE\t| /\t    | keypaddivide       |\n",
    "| K_KP_MULTIPLY\t| *\t    | keypadmultiply     |\n",
    "| K_KP_MINUS\t| —\t    | keypadminus        |\n",
    "| K_KP_PLUS     | +\t    | keypadplus         |\n",
    "| K_KP_ENTER\t| \\r\t| keypadenter        |\n",
    "| K_KP_EQUALS\t| =\t    | keypadequals       |\n",
    "| K_UP\t\t    |       | uparrow            |\n",
    "| K_DOWN\t    | \t    | downarrow          |\n",
    "| K_RIGHT\t    |     \t| rightarrow         |\n",
    "| K_LEFT\t    |     \t| leftarrow          |\n",
    "| K_INSERT\t    | \t    | insert             |\n",
    "| K_HOME\t    | \t    | home               |\n",
    "| K_END\t\t    |       | end                |\n",
    "| K_PAGEUP\t    | \t    | pageup             |\n",
    "| K_PAGEDOWN\t| \t    | pagedown           |\n",
    "| K_F1\t\t    | F1    |                    | \n",
    "| K_F2\t\t    | F2    |                    | \n",
    "| K_F3\t\t    | F3    |                    | \n",
    "| K_F4\t\t    | F4    |                    | \n",
    "| K_F5\t\t    | F5    |                    | \n",
    "| K_F6\t\t    | F6    |                    | \n",
    "| K_F7\t\t    | F7    |                    | \n",
    "| K_F8\t\t    | F8    |                    | \n",
    "| K_F9\t\t    | F9    |                    | \n",
    "| K_F10\t\t    | F10   |                    | \n",
    "| K_F11\t\t    | F11   |                    | \n",
    "| K_F12\t\t    | F12   |                    | \n",
    "| K_F13\t\t    | F13   |                    | \n",
    "| K_F14\t\t    | F14   |                    | \n",
    "| K_F15\t\t    | F15   |                    | \n",
    "| K_NUMLOCK    \t| \t    | numlock            |\n",
    "| K_CAPSLOCK\t| \t    | capslock           |\n",
    "| K_SCROLLOCK\t| \t    | scrollock          |\n",
    "| K_RSHIFT\t    | \t    | rightshift         |\n",
    "| K_LSHIFT\t    | \t    | leftshift          |\n",
    "| K_RCTRL\t    | \t    | rightcontrol       |\n",
    "| K_LCTRL\t    | \t    | leftcontrol        |\n",
    "| K_RALT\t    | \t    | rightalt           |\n",
    "| K_LALT\t    | \t    | leftalt            |\n",
    "| K_RMETA\t    | \t    | rightmeta          |\n",
    "| K_LMETA\t    | \t    | leftmeta           |\n",
    "| K_LSUPER\t    | \t    | leftWindowskey     |\n",
    "| K_RSUPER\t    |     \t| rightWindowskey    |\n",
    "| K_MODE\t    |     \t| modeshift          |\n",
    "| K_HELP\t    |     \t| help               |\n",
    "| K_PRINT\t    | \t    | printscreen        |\n",
    "| K_SYSREQ\t    |     \t| sysrq              |\n",
    "| K_BREAK\t    | \t    | break              |\n",
    "| K_MENU\t    |     \t| menu               |\n",
    "| K_POWER\t    | \t    | power              |\n",
    "| K_EURO\t    | \t    | Euro               |"
   ]
  },
  {
   "cell_type": "markdown",
   "metadata": {},
   "source": [
    "## <div align=\"center\">Направленное движение с помощью клавиш</div> "
   ]
  },
  {
   "cell_type": "markdown",
   "metadata": {},
   "source": [
    "Можно перемещать изображение на экране с клавиатуры, назначая клавиши для перемещений: вверх, вниз, влево, вправо.\n",
    "Создать картинку, например:"
   ]
  },
  {
   "cell_type": "code",
   "execution_count": null,
   "metadata": {},
   "outputs": [],
   "source": [
    "sprite=pygame.image.load('images//pict2.gif')"
   ]
  },
  {
   "cell_type": "markdown",
   "metadata": {},
   "source": [
    "Проверить очередь событий:"
   ]
  },
  {
   "cell_type": "code",
   "execution_count": null,
   "metadata": {},
   "outputs": [],
   "source": [
    "pygame.event.get()"
   ]
  },
  {
   "cell_type": "markdown",
   "metadata": {},
   "source": [
    "Проверить, является ли полученное событие нажатием на клавиши со стрелками:"
   ]
  },
  {
   "cell_type": "code",
   "execution_count": null,
   "metadata": {},
   "outputs": [],
   "source": [
    "event.type == KEYDOWN"
   ]
  },
  {
   "cell_type": "markdown",
   "metadata": {},
   "source": [
    "Если — да, то получмить код нажатой клавиши и сформировать новые координаты для картинки:"
   ]
  },
  {
   "cell_type": "code",
   "execution_count": null,
   "metadata": {},
   "outputs": [],
   "source": [
    "spritex,spritey"
   ]
  },
  {
   "cell_type": "markdown",
   "metadata": {},
   "source": [
    "И нарисовать картинку в новом месте:"
   ]
  },
  {
   "cell_type": "code",
   "execution_count": null,
   "metadata": {},
   "outputs": [],
   "source": [
    "blit(sprite,(spritex,spritey))"
   ]
  },
  {
   "cell_type": "code",
   "execution_count": null,
   "metadata": {},
   "outputs": [],
   "source": [
    "import pygame, sys, time\n",
    "from pygame.locals import *\n",
    "\n",
    "pygame.init()\n",
    "\n",
    "FPS=30\n",
    "fpsClock=pygame.time.Clock()\n",
    "width=500\n",
    "height=500\n",
    "mainSurface=pygame.display.set_mode((width,height),0,32)\n",
    "pygame.display.set_caption('Keyb moves')\n",
    "\n",
    "background=pygame.image.load('images//bg1.jpg')\n",
    "\n",
    "sprite=pygame.image.load('images//pict2.gif') # Create moving image\n",
    "\n",
    "# Place image to the center of mainSurface\n",
    "spritex=(mainSurface.get_width() - sprite.get_width())/2\n",
    "spritey=(mainSurface.get_height() - sprite.get_height())/2\n",
    "direction=False\n",
    "\n",
    "# --->\n",
    "def move(direction, spritex, spritey):\n",
    "    # This function moves recalculates new image coordinates\n",
    "    if direction:\n",
    "        if direction == K_UP:\n",
    "            spritey-=5\n",
    "        elif direction == K_DOWN:\n",
    "            spritey+=5\n",
    "        if direction == K_LEFT:\n",
    "            spritex-=5\n",
    "        elif direction == K_RIGHT:\n",
    "            spritex+=5\n",
    "    return spritex, spritey\n",
    "# --->\n",
    "\n",
    "# game loop\n",
    "while True:\n",
    "    fpsClock.tick(FPS) # define frame rate\n",
    "    mainSurface.blit(background,(0,0))\n",
    "    mainSurface.blit(sprite,(spritex,spritey))\n",
    "\n",
    "    # get all events from the queue\n",
    "    for event in pygame.event.get():\n",
    "        # loop events queue, remember in 'direction' pressed key code\n",
    "        if event.type==QUIT:\n",
    "            # window close X pressed\n",
    "            pygame.quit()\n",
    "            sys.exit()\n",
    "        if event.type==KEYDOWN and event.key == K_ESCAPE:\n",
    "            # ESC key pressed\n",
    "            pygame.quit()\n",
    "            sys.exit()\n",
    "        if event.type == KEYDOWN: direction = event.key # Other key pressed\n",
    "        if event.type == KEYUP:  direction = False # Key released\n",
    "\n",
    "    # calculate new image position    \n",
    "    spritex, spritey = move(direction, spritex, spritey)\n",
    "\n",
    "    pygame.display.update()"
   ]
  },
  {
   "cell_type": "markdown",
   "metadata": {},
   "source": [
    "## <div align=\"center\">Объект Surface</div> "
   ]
  },
  {
   "cell_type": "markdown",
   "metadata": {},
   "source": [
    "pygame.Surface — объект pygame для представления изображений"
   ]
  },
  {
   "cell_type": "code",
   "execution_count": null,
   "metadata": {},
   "outputs": [],
   "source": [
    "Surface((width, height), flags=0, depth=0, masks=None) -> Surface\n",
    "\n",
    "Surface((width, height), flags=0, Surface) -> Surface"
   ]
  },
  {
   "cell_type": "markdown",
   "metadata": {},
   "source": [
    "Наложение поверхностей, прозрачность."
   ]
  },
  {
   "cell_type": "code",
   "execution_count": null,
   "metadata": {},
   "outputs": [],
   "source": [
    "#-*-coding: utf-8-*-\n",
    "import pygame\n",
    "pygame.init()\n",
    "\n",
    "# Create base surface\n",
    "screen = pygame.display.set_mode((500,500))\n",
    "\n",
    "# Create new surface\n",
    "surface1 = pygame.Surface((150,150))\n",
    "surface1.fill((255,0,0))\n",
    "surface1.set_alpha(150)\n",
    "#\n",
    "surface2 = pygame.Surface((100,100))\n",
    "surface2.fill((255,255,0))\n",
    "surface2.set_alpha(100)\n",
    "\n",
    "# Create image\n",
    "bgImg = pygame.image.load(\"images//bg3.jpg\")\n",
    "bgImg = pygame.transform.scale(bgImg,(500,500))\n",
    "#\n",
    "pict1 = pygame.image.load(\"images//pict1.jpg\")\n",
    "pict1 = pygame.transform.scale(pict1,(130,130))\n",
    "pict1.set_alpha(100)\n",
    "#\n",
    "pict2 = pygame.image.load(\"images//pict2.gif\")\n",
    "pict2 = pygame.transform.scale(pict2,(50,50))\n",
    "\n",
    "clock = pygame.time.Clock()\n",
    "running = 1\n",
    "dX = dY = 1\n",
    "x = y = 0\n",
    "\n",
    "while running:\n",
    "    clock.tick(50)\n",
    "    event = pygame.event.poll()\n",
    "    if event.type == pygame.QUIT: running = 0\n",
    "    x += 8 * dX\n",
    "    y += 6 * dY\n",
    "    if (y<0 or y>= (screen.get_height() - pict2.get_height())) :\n",
    "        dY *= -1\n",
    "    if (x<0 or x>= (screen.get_width() - pict2.get_width())) :\n",
    "        dX *= -1\n",
    "    \n",
    "    screen.blit(bgImg,(0,0))\n",
    "    surface1.blit(pict1,(0,0))\n",
    "    screen.blit(surface1,(20,50))\n",
    "    screen.blit(surface2,(150,150))\n",
    "    screen.blit(pict2,(x,y))\n",
    "    \n",
    "    pygame.display.flip()\n",
    "\n",
    "pygame.quit()   "
   ]
  },
  {
   "cell_type": "markdown",
   "metadata": {},
   "source": [
    "## <div align=\"center\">Объект Surface</div>Управление временем"
   ]
  },
  {
   "cell_type": "markdown",
   "metadata": {},
   "source": [
    "Модуль pygame.time содержит объект Clock, который можно использовать для отслеживания\n",
    "времени. Чтобы создать объект типа: время, вызывается конструктор pygame.time.Clock:"
   ]
  },
  {
   "cell_type": "code",
   "execution_count": null,
   "metadata": {},
   "outputs": [],
   "source": [
    "clock = pygame.time.Clock()"
   ]
  },
  {
   "cell_type": "markdown",
   "metadata": {},
   "source": [
    "Когда создан объект clock, можно вызвать его функцию tick один раз за кадр,\n",
    "которая возвращает время, прошедшее со времени предыдущего вызова в миллисекундах:"
   ]
  },
  {
   "cell_type": "code",
   "execution_count": null,
   "metadata": {},
   "outputs": [],
   "source": [
    "time_passed = clock.tick ()"
   ]
  },
  {
   "cell_type": "markdown",
   "metadata": {},
   "source": [
    "Функция tick может использовать необязательный параметр для установления максимальной частоты кадров. Этот параметр нужен, если игра запущена на рабочем компьютере и необходимо контролировать, чтобы она не использовала всю его вычислительная мощность на 100%:"
   ]
  },
  {
   "cell_type": "code",
   "execution_count": null,
   "metadata": {},
   "outputs": [],
   "source": [
    "# Игра будет работать со скоростью не более 30 кадров в секунду\n",
    "time_passed = clock.tick (30)"
   ]
  },
  {
   "cell_type": "markdown",
   "metadata": {},
   "source": [
    "## <div align=\"center\">Звуки</div>"
   ]
  },
  {
   "cell_type": "markdown",
   "metadata": {},
   "source": [
    "Для управления звуком используется модуль pygame.mixer. Он отвечает за любые действия со звуками.  \n",
    "Загружаем звуковой файл в формате *.wav"
   ]
  },
  {
   "cell_type": "code",
   "execution_count": null,
   "metadata": {},
   "outputs": [],
   "source": [
    "sound = pygame.mixer.Sound(\"sound.wav\")"
   ]
  },
  {
   "cell_type": "markdown",
   "metadata": {},
   "source": [
    "(загружаем до игрового цикла, т.к. это очень долгая операция)\n",
    "\n",
    "Проигрываем звук"
   ]
  },
  {
   "cell_type": "code",
   "execution_count": null,
   "metadata": {},
   "outputs": [],
   "source": [
    "sound.play()"
   ]
  },
  {
   "cell_type": "markdown",
   "metadata": {},
   "source": [
    "## <div align=\"center\">Столкновения (collisions)</div>"
   ]
  },
  {
   "cell_type": "markdown",
   "metadata": {},
   "source": [
    "При написании игр часто возникает необходимость проверять взаимное расположение объектов на экране, отслеживать моменты их столкновений, пересечений.  \n",
    "Эта задача может быть реализована разными способами.  \n",
    "Например, используя объект Rect  "
   ]
  },
  {
   "cell_type": "code",
   "execution_count": null,
   "metadata": {},
   "outputs": [],
   "source": [
    "#-*-coding:utf-8-*-\n",
    "import pygame, sys, time\n",
    "from pygame.locals import *\n",
    "\n",
    "pygame.init()\n",
    "FPS         = 30\n",
    "fpsClock    = pygame.time.Clock()\n",
    "winWidth    = 500\n",
    "winHeight   = 500\n",
    "mainSurface = pygame.display.set_mode((winWidth,winHeight),0,32)\n",
    "pygame.display.set_caption('Collisions test')\n",
    "background = pygame.image.load('images//bg1.jpg')\n",
    "\n",
    "# Рисуем неподвижные компоненты на поверхности background\n",
    "# Места расположения границ\n",
    "border1Rect = pygame.Rect(0,0,100,500)\n",
    "border2Rect = pygame.Rect(0,150,300,50)\n",
    "# границы\n",
    "border1 = pygame.draw.rect(background, (0,0,0), border1Rect, 0)\n",
    "border2 = pygame.draw.rect(background, (0,0,0), border2Rect, 0)\n",
    "# Записываем их в массив\n",
    "borders = []\n",
    "borders.append((border1,border1Rect))\n",
    "borders.append((border2,border2Rect))\n",
    "# Подвижный блок\n",
    "blockWidth  = 50\n",
    "blockHeight = 50\n",
    "blockStep = 1\n",
    "blockColor  = (255,0,0)\n",
    "# Начальные координаты подвижного блока - по центру \n",
    "blockX = (mainSurface.get_width()   - blockWidth)/2\n",
    "blockY = (mainSurface.get_height()  - blockHeight)/2\n",
    "blockPosition = (blockX, blockY)\n",
    "direction = False\n",
    "\n",
    "# описание функции --->\n",
    "def newPosition(dirFlag, pos):\n",
    "    (x,y) = pos\n",
    "    # Функция пересчитывает координаты для подвижного объекта\n",
    "    if dirFlag:\n",
    "        if dirFlag      == K_UP:\n",
    "            y -= blockStep\n",
    "        elif dirFlag    == K_DOWN:\n",
    "            y += blockStep\n",
    "        if dirFlag      == K_LEFT:\n",
    "            x -= blockStep\n",
    "        elif dirFlag    == K_RIGHT:\n",
    "            x += blockStep\n",
    "    return (x, y)\n",
    "# --->\n",
    "\n",
    "while True:   # Игра - начало\n",
    "    # Частота обновления экрана\n",
    "    fpsClock.tick(FPS)\n",
    "    # Рисуем неподвижные компоненты\n",
    "    mainSurface.blit(background,(0,0))\n",
    "    # Рисуем подвижный компонент\n",
    "    blockRect = pygame.Rect(blockPosition, (blockWidth, blockHeight))\n",
    "    block = pygame.draw.rect(mainSurface, blockColor, blockRect, 1)\n",
    "    # просматриваем очередь событий\n",
    "    for event in pygame.event.get():\n",
    "        # loop events queue, remember in 'direction' pressed key code\n",
    "        if event.type == QUIT:\n",
    "            # window close X pressed\n",
    "            pygame.quit()\n",
    "            sys.exit()\n",
    "        if event.type == KEYDOWN and event.key == K_ESCAPE:\n",
    "            # ESC key pressed\n",
    "            pygame.quit()\n",
    "            sys.exit()\n",
    "        if event.type == KEYDOWN: direction = event.key # Other key pressed\n",
    "        if event.type == KEYUP:  direction = False # Key released\n",
    "    # Cохраняем старые координаты подвижного блока\n",
    "    savedPosition = blockPosition\n",
    "    # Рассчитываем новые координаты подвижного блока\n",
    "    blockPosition = newPosition(direction, blockPosition)\n",
    "    # Проверяем их корректность \n",
    "    for border in borders:\n",
    "        testRect = pygame.Rect(blockPosition, (blockWidth, blockHeight))  \n",
    "        if testRect.colliderect(border[1]):\n",
    "            print (\"Столкновение !\")\n",
    "            # Возвращаем старые координату\n",
    "            blockPosition = savedPosition\n",
    "        else: print (\"ok\")\n",
    "    pygame.display.update()\n",
    "# Игра - конец "
   ]
  },
  {
   "cell_type": "markdown",
   "metadata": {},
   "source": [
    "Или используя поверхности — surface"
   ]
  },
  {
   "cell_type": "code",
   "execution_count": null,
   "metadata": {},
   "outputs": [],
   "source": [
    "#-*-coding:utf-8-*-\n",
    "import pygame, sys, time\n",
    "from pygame.locals import *\n",
    "\n",
    "# Блоки-ограничители рисуются как отдельные поверхности\n",
    "# Между ними курсором перемещаем мячик\n",
    "\n",
    "FPS = 30 # кадров в сек\n",
    "# Размеры окна игры\n",
    "width  = 500\n",
    "height = 500\n",
    "# Заголовок окна игры\n",
    "title = \"Collisions detection test\"\n",
    "# Сообщение в консоль игры\n",
    "info = \"Нет столкновений \\n\"\n",
    "# Переменная - индикатор движения\n",
    "direction = False\n",
    "# Шаг движения\n",
    "myStep = 2\n",
    "pygame.mixer.init()\n",
    "pygame.mixer.music.load(\"voice-prompts-reaction-reaction-1-child-3-yrs-oops-human-voice-kid-speak-talk.mp3\")\n",
    "\n",
    "pygame.init()\n",
    "fpsClock = pygame.time.Clock()\n",
    "mainSurface=pygame.display.set_mode((width,height),0,32)\n",
    "pygame.display.set_caption(title)\n",
    "background=pygame.image.load('images//bg1.jpg')     # Фон \n",
    "sprite = pygame.image.load('images//pict2.gif')     # Подвижная картинка\n",
    "\n",
    "# Начальные координаты подвижной картинки\n",
    "# Важно, чтобы в начале работы она не перекрывала ни один блок\n",
    "spriteX=mainSurface.get_width() - sprite.get_width()\n",
    "spriteY=mainSurface.get_height() - sprite.get_height()\n",
    "\n",
    "# Неподвижные блоки - все сохраняем в одном списке\n",
    "# Структура списка blocks:\n",
    "# каждый элемент - пара значений: (поверхность, область её размещения)\n",
    "# blocks[0] - первый элемент списка, blocks[0][0] - surface первого элемента,blocks[0][1]  - Rect первого элемента\n",
    "blocks = []\n",
    "block1 = pygame.Surface((200,200))\n",
    "block1.set_alpha(80)\n",
    "block1.fill((255,0,0))\n",
    "block1Rect = pygame.Rect(0,0,block1.get_width(), block1.get_height())\n",
    "blocks.append((block1,block1Rect))\n",
    "#\n",
    "block2 = pygame.Surface((100,200))\n",
    "block2.fill((0,255,0))\n",
    "block2Rect = pygame.Rect(400,0,block2.get_width(), block2.get_height())\n",
    "blocks.append((block2,block2Rect))\n",
    "#\n",
    "block3 = pygame.Surface((300,100))\n",
    "block3.fill((0,0,255))\n",
    "block3Rect = pygame.Rect(0,350,block3.get_width(), block3.get_height())\n",
    "blocks.append((block3,block3Rect))\n",
    "# закончили с описанием 3-х блоков\n",
    "\n",
    "\n",
    "# *********>\n",
    "def newPosition (direction, spriteX, spriteY):\n",
    "    # Функция пересчитывает координаты новой позиции подвижного объекта\n",
    "    # Проверяем столкновений со всеми блоками-границаи\n",
    "    global myStep\n",
    "    if direction:\n",
    "        if direction == K_UP:\n",
    "            spriteY -= myStep\n",
    "        elif direction == K_DOWN:\n",
    "            spriteY += myStep\n",
    "        elif direction == K_LEFT:\n",
    "            spriteX -= myStep\n",
    "        elif direction == K_RIGHT:\n",
    "            spriteX += myStep\n",
    "    return spriteX, spriteY\n",
    "# *********>\n",
    "\n",
    "\n",
    "\n",
    "# *********>\n",
    "def collisionDetected():\n",
    "    global blocks\n",
    "    global spriteRectNew\n",
    "    colFlag = False\n",
    "    # Проверка столкновений со всеми блоками в массиве блоков\n",
    "    for block in blocks:\n",
    "        if spriteRectNew.colliderect(block[1]):\n",
    "            collisionDir = direction\n",
    "            colFlag = True\n",
    "    return colFlag\n",
    "# *********>\n",
    "\n",
    "# Цикл игры\n",
    "while True:\n",
    "    fpsClock.tick(FPS) # Частота обновления экрана\n",
    "    \n",
    "    # Обрабатываем очередь событий - начало \n",
    "    for event in pygame.event.get(): \n",
    "        # В цикле берём из очереди очередное событие, запоминаем в переменной event\n",
    "        # Проверяем тип события и выполняем соответствующие лействия\n",
    "        if event.type == QUIT:\n",
    "            # Тип проверяемого события НАЖАТ Х В ОКНЕ ИГРЫ\n",
    "            pygame.quit()\n",
    "            sys.exit()\n",
    "        if event.type == KEYDOWN and event.key == K_ESCAPE:\n",
    "            # ESC key pressed\n",
    "            pygame.quit()\n",
    "            sys.exit()\n",
    "\n",
    "        # Следующая строка получает управление только тогда, когда не отработали предыдущие проверки кода события\n",
    "        # то есть произошло событие, отличное от перечисленных выше\n",
    "        if event.type == KEYDOWN:\n",
    "            direction = event.key\n",
    "        if event.type == KEYUP:\n",
    "            direction = False # Кнопка отпущена\n",
    "    # Обрабатываем очередь событий - конец \n",
    "\n",
    "\n",
    "    # Текущее место расположения подвижной картинки \n",
    "    spriteRect = pygame.Rect(spriteX,spriteY,sprite.get_width(), sprite.get_height())\n",
    "\n",
    "    # Сохраняем старые координаты\n",
    "    oldPos = (spriteX, spriteY)\n",
    "    \n",
    "    # Вычмсляем новые координаты, анализируя нажатые кнопки\n",
    "    spriteX, spriteY = newPosition(direction, spriteX, spriteY)\n",
    "\n",
    "    # Вычисляем новое место расположения картинки\n",
    "    spriteRectNew = pygame.Rect(spriteX,spriteY,sprite.get_width(), sprite.get_height())\n",
    "\n",
    "    \n",
    "    # Проверяем, не пересекает ли новое место блоки. Если пересекает, то вовращпни картинке старые координаты\n",
    "    if collisionDetected():\n",
    "        (spriteX, spriteY) = oldPos\n",
    "        # Play OOPS!\n",
    "        pygame.mixer.music.play()\n",
    "        \n",
    "    # Рисуем всё на экране\n",
    "    #    Фон \n",
    "    mainSurface.blit(background,(0,0))\n",
    "    #    Блоки \n",
    "    for block in blocks:\n",
    "        mainSurface.blit(block[0],(block[1].x,block[1].y))\n",
    "    #    Картинку \n",
    "    mainSurface.blit(sprite,(spriteRect.x,spriteRect.y))\n",
    "    #    Обновляем экран\n",
    "    pygame.display.update()"
   ]
  }
 ],
 "metadata": {
  "kernelspec": {
   "display_name": "Python 3",
   "language": "python",
   "name": "python3"
  },
  "language_info": {
   "name": "python",
   "version": "3.13.3"
  }
 },
 "nbformat": 4,
 "nbformat_minor": 2
}
