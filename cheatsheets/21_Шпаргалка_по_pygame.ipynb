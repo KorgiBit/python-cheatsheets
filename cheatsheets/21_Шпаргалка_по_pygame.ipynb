{
 "cells": [
  {
   "cell_type": "markdown",
   "metadata": {},
   "source": [
    "## <div align=\"center\">Модули Pygame</div>\n",
    "\n",
    "<div align=\"center\">Модули библиотеки Pygame:</div>  \n"
   ]
  },
  {
   "cell_type": "markdown",
   "metadata": {},
   "source": [
    "\n",
    "| <div align=\"center\">**Модуль**</div> | <div align=\"center\">**Назначение**</div>        |\n",
    "|:------------------------------------|:------------------------------------------------|\n",
    "| pygame.cdrom         | Доступ к CD-приводам и управление ими                           |\n",
    "| pygame.cursors       | Загружает изображения курсора                                   |\n",
    "| pygame.display       | Доступ к дисплею                                                |\n",
    "| pygame.draw          | Рисует фигуры, линии и точки                                    |\n",
    "| pygame.event         | Управление внешними событиями                                   |\n",
    "| pygame.font          | Использует системные шрифты                                     |\n",
    "| pygame.image         | Загружает и сохраняет изображения                               |\n",
    "| pygame.joystick      | Использует джойстики и аналогичные устройства                   |\n",
    "| pygame.key           | Считывает нажатия клавиш с клавиатуры                           |\n",
    "| pygame.mixer         | Загружает и воспроизводит мелодии                               |\n",
    "| pygame.mouse         | Управляет мышью                                                 |\n",
    "| pygame.movie         | Воспроизведение видеофайлов                                     |\n",
    "| pygame.music         | Работает с музыкой и потоковым аудио                            |\n",
    "| pygame.overlay       | Доступ к расширенным видеоизображениям                          |\n",
    "| pygame               | Содержит функции Pygame высокого уровня                         |\n",
    "| pygame.rect          | Управляет прямоугольными областями                              |\n",
    "| pygame.sndarray      | Манипулирует звуковыми данными                                  |\n",
    "| pygame.sprite        | Управление движущимися изображениями                            |\n",
    "| pygame.surface       | Управляет изображениями и экраном                               |\n",
    "| pygame.surfarray     | Манипулирует данными пикселей изображения                       |\n",
    "| pygame.time          | Модуль pygame для управления временем и частотой кадров         |\n",
    "| pygame.transform     | Изменение размера и перемещение изображений                     |\n"
   ]
  },
  {
   "cell_type": "markdown",
   "metadata": {},
   "source": [
    "## <div align=\"center\">Окно Pygame</div>"
   ]
  },
  {
   "cell_type": "code",
   "execution_count": null,
   "metadata": {},
   "outputs": [],
   "source": [
    "# Подключение библиотеки PyGame\n",
    "import pygame\n",
    "\n",
    "# Инициализация PyGame\n",
    "pygame.init()\n",
    "\n",
    "# Окно игры: размер, позиция\n",
    "gameScreen = pygame.display.set_mode((400, 300))\n",
    "\n",
    "# Модуль os — позиция окна\n",
    "import os\n",
    "x = 100\n",
    "y = 100\n",
    "os.environ['Sp_VIDEO_WINDOW_POS'] = \"%d,%d\" % (x,y)\n",
    "\n",
    "# Параметры окна\n",
    "size = [500, 500]\n",
    "screen = pygame.display.set_mode(size)\n",
    "pygame.display.set_caption(\"Test drawings\")\n",
    "gameScreen.fill((0,0,255))\n",
    "pygame.display.flip()"
   ]
  },
  {
   "cell_type": "markdown",
   "metadata": {},
   "source": [
    "## <div align=\"center\">Цикл игры, Выход из игры</div>"
   ]
  },
  {
   "cell_type": "code",
   "execution_count": null,
   "metadata": {},
   "outputs": [],
   "source": [
    "# Цикл игры\n",
    "runGame = True # флаг выхода из цикла игры\n",
    "while runGame:\n",
    "    # Отслеживание события: \"закрыть окно\"\n",
    "    for event in pygame.event.get():\n",
    "        if event.type == pygame.QUIT: runGame = False\n",
    "# Выход из игры: \n",
    "pygame.quit()"
   ]
  },
  {
   "cell_type": "markdown",
   "metadata": {},
   "source": [
    "## <div align=\"center\">Рисование базовых элементов</div>  \n",
    "## <div align=\"center\">Модуль pygame.draw</div>"
   ]
  },
  {
   "cell_type": "markdown",
   "metadata": {},
   "source": [
    "| <div align=\"center\">**Команда**</div> | <div align=\"center\">**Описание**</div>        |\n",
    "|:------------------------|:----------------------------------------------------|\n",
    "| pygame.draw.rect     | нарисовать прямоугольную форму                     |\n",
    "| pygame.draw.polygon  | фигуру с любым количеством сторон                 |\n",
    "| pygame.draw.circle   | круг вокруг точки                                 |\n",
    "| pygame.draw.ellipse  | нарисовать круглую форму внутри прямоугольника    |\n",
    "| pygame.draw.arc      | нарисовать секцию эллипса                         |\n",
    "| pygame.draw.line     | нарисовать сегмент прямой линии                   |\n",
    "| pygame.draw.lines    | для рисования нескольких смежных отрезков        |\n",
    "| pygame.draw.aaline   | рисовать тонкую линию                              |\n",
    "| pygame.draw.aalines  | нарисовать связанную последовательность сглаженных линий |"
   ]
  },
  {
   "cell_type": "markdown",
   "metadata": {},
   "source": [
    "rect(Surface, color, Rect, wiph=0) -> Rect  \n",
    "polygon(Surface, color, pointlist, wiph=0) -> Rect  \n",
    "circle(Surface, color, pos, radius, wiph=0) -> Rect  \n",
    "ellipse(Surface, color, Rect, wiph=0) -> Rect  \n",
    "arc(Surface, color, Rect, start_angle, stop_angle, wiph=1) -> Rect  \n",
    "line(Surface, color, start_pos, end_pos, wiph=1) -> Rect  \n",
    "lines(Surface, color, closed, pointlist, wiph=1) -> Rect  \n",
    "aaline(Surface, color, startpos, endpos, blend=1) -> Rect  \n",
    "aalines(Surface, color, closed, pointlist, blend=1) -> Rect  "
   ]
  },
  {
   "cell_type": "code",
   "execution_count": null,
   "metadata": {},
   "outputs": [],
   "source": [
    "# Модуль pygame.image позволяет загрузить изображерие из файла и возвращает объект типа Surface.\n",
    "pygame.image.load(\"путь к файлу\" )\n",
    "# загрузить новое изображение из файла\n",
    "load(filename) -> Surface\n",
    "# Загрузить изображение (путь к файлу для Windows)\n",
    "myImage = pygame.image.load('images\\\\bg1.jpg')\n",
    "# определить место размещения\n",
    "myRect = (0,0,600,400)\n",
    "# выгрузить объект Surface, который содержит загруженное из файла изображение (myImage), в описанное место на экране (myRect)\n",
    "screen.blit(myImage,myRect)\n",
    "Объект Rect"
   ]
  },
  {
   "cell_type": "markdown",
   "metadata": {},
   "source": [
    "## <div align=\"center\">Загрузка изображения</div>  "
   ]
  },
  {
   "cell_type": "code",
   "execution_count": null,
   "metadata": {},
   "outputs": [],
   "source": [
    "# Модуль pygame.image позволяет загрузить изображерие из файла и возвращает объект типа Surface.\n",
    "pygame.image.load(\"путь к файлу\" )\n",
    "# загрузить новое изображение из файла\n",
    "load(filename) -> Surface\n",
    "# Загрузить изображение (путь к файлу для Windows)\n",
    "myImage = pygame.image.load('images\\\\bg1.jpg')\n",
    "# определить место размещения\n",
    "myRect = (0,0,600,400)\n",
    "# выгрузить объект Surface, который содержит загруженное из файла изображение (myImage), в описанное место на экране (myRect)\n",
    "screen.blit(myImage,myRect)"
   ]
  }
 ],
 "metadata": {
  "kernelspec": {
   "display_name": "Python 3",
   "language": "python",
   "name": "python3"
  },
  "language_info": {
   "name": "python",
   "version": "3.13.3"
  }
 },
 "nbformat": 4,
 "nbformat_minor": 2
}
