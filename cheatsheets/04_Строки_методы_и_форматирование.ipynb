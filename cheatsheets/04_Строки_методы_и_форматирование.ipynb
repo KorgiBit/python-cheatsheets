{
 "cells": [
  {"cell_type": "markdown", "metadata": {}, "source": ["# Строки: методы и форматирование\n"]},
  {"cell_type": "markdown", "metadata": {}, "source": ["**Что это?**\n\nСтроки — это просто текст. В Python строки заключаются в кавычки: одинарные, двойные, тройные (для многострочного текста).\n"]},
  {"cell_type": "markdown", "metadata": {}, "source": ["**Синтаксис**\n\n```python\ntext = 'Привет'\nmultiline = \"\"\"Много\nстрок\"\"\"\n```\n"]},
  {"cell_type": "markdown", "metadata": {}, "source": ["**Основные методы**\n\n- `len(text)` — длина строки\n- `text.lower()` — в нижний регистр\n- `text.upper()` — в верхний регистр\n- `text.replace('а', 'б')` — замена\n- `text.split(',')` — разбить по разделителю\n- `text.strip()` — убрать пробелы по краям\n- `text.find('a')` — найти подстроку\n- `text.startswith('a')`, `text.endswith('a')`\n- `text.isdigit()`, `text.isalpha()`\n- `text.count('a')` — сколько раз встречается\n"]},
  {"cell_type": "code", "execution_count": null, "metadata": {}, "outputs": [], "source": ["# Примеры методов строк\ns = ' Hello, Python! '\nprint('len:', len(s))\nprint('lower:', s.lower())\nprint('upper:', s.upper())\nprint('replace:', s.replace('Hello', 'Привет'))\nprint('split:', s.split(','))\nprint('strip:', s.strip())\nprint('find:', s.find('Python'))\nprint('startswith:', s.startswith(' '))\nprint('endswith:', s.endswith('! '))\nprint('isdigit:', s.isdigit())\nprint('isalpha:', s.isalpha())\nprint('count o:', s.count('o'))\n"]},
  {"cell_type": "code", "execution_count": null, "metadata": {}, "outputs": [], "source": ["# Ещё примеры\ntext = 'apple,banana,pear'\nfruits = text.split(',')\nprint('fruits:', fruits)\nprint('joined:', '-'.join(fruits))\n"]},
  {"cell_type": "markdown", "metadata": {}, "source": ["**Форматирование строк**\n\n- f-строки: `f'Привет, {name}!'`\n- .format(): `'{} {}'.format(a, b)`\n- Оператор %: `'%d яблок' % count`\n- Экранирование спецсимволов: `\\n`, `\\t`, `\\\\`\n"]},
  {"cell_type": "code", "execution_count": null, "metadata": {}, "outputs": [], "source": ["# Примеры форматирования\nname = 'Петя'\ncount = 5\nprint(f'Привет, {name}! У тебя {count} яблок.')\nprint('{} + {} = {}'.format(2, 3, 2+3))\nprint('%d яблок' % count)\nprint('Многострочный\nтекст')\n"]},
  {"cell_type": "markdown", "metadata": {}, "source": ["**Типичные ошибки и примеры**\n"]},
  {"cell_type": "code", "execution_count": null, "metadata": {}, "outputs": [], "source": ["# Ошибка: не закрыта кавычка\ntry:\n    eval(\"text = 'Привет\")\nexcept SyntaxError as e:\n    print('Ошибка:', e)  # SyntaxError: EOL while scanning string literal\n"]},
  {"cell_type": "code", "execution_count": null, "metadata": {}, "outputs": [], "source": ["# Ошибка: f-строка без фигурных скобок\nname = 'Петя'\nprint(f'Привет, name!')  # Выведет: Привет, name!\nprint(f'Привет, {name}!')  # Выведет: Привет, Петя!\n"]},
  {"cell_type": "code", "execution_count": null, "metadata": {}, "outputs": [], "source": ["# Ошибка: попытка изменить символ строки\ntry:\n    s = 'hello'\n    s[0] = 'H'\nexcept TypeError as e:\n    print('Ошибка:', e)  # TypeError: 'str' object does not support item assignment\n"]},
  {"cell_type": "code", "execution_count": null, "metadata": {}, "outputs": [], "source": ["# Ошибка: сложение строки и числа\ntry:\n    print('5' + 2)\nexcept TypeError as e:\n    print('Ошибка:', e)  # TypeError: can only concatenate str (not 'int') to str\n"]},
  {"cell_type": "markdown", "metadata": {}, "source": ["**Лайфхаки с важными советами**\n\n- Для объединения строк используй `+` или f-строки.\n- Для многострочного текста — тройные кавычки.\n- Проверяй, что работаешь именно со строкой, а не с числом!\n- Не называй переменные `str` — это встроенный тип.\n- Для поиска и замены сразу нескольких символов используй цепочку методов.\n"]}
 ],
 "metadata": {
  "kernelspec": {"display_name": "Python 3", "language": "python", "name": "python3"},
  "language_info": {"name": "python", "version": "3.10"}
 },
 "nbformat": 4,
 "nbformat_minor": 5
}
