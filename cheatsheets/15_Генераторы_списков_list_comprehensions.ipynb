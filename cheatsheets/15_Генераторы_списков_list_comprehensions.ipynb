{
 "cells": [
  {"cell_type": "markdown", "metadata": {}, "source": ["# Генераторы списков (list comprehensions)"]},
  {"cell_type": "markdown", "metadata": {}, "source": ["**Что это?**\n\nГенераторы списков позволяют создавать новые списки на основе существующих с помощью компактной записи."]},
  {"cell_type": "markdown", "metadata": {}, "source": ["## Синтаксис\n\n```python\n[выражение for переменная in последовательность if условие]\n```\n\n- выражение — что добавлять в новый список\n- for — перебор элементов\n- if — (необязательно) фильтр по условию"]},
  {"cell_type": "code", "execution_count": null, "metadata": {}, "outputs": [], "source": ["# Пример: создать список квадратов\nsquares = [x * x for x in range(5)]\nprint(squares)"]},
  {"cell_type": "code", "execution_count": null, "metadata": {}, "outputs": [], "source": ["# Пример: фильтрация чётных чисел\nevens = [x for x in range(10) if x % 2 == 0]\nprint(evens)"]},
  {"cell_type": "code", "execution_count": null, "metadata": {}, "outputs": [], "source": ["# Пример: преобразование строк\nwords = ['Python', 'is', 'fun']\nlengths = [len(word) for word in words]\nprint(lengths)"]},
  {"cell_type": "code", "execution_count": null, "metadata": {}, "outputs": [], "source": ["# Пример: вложенные генераторы (двумерный список)\ntable = [[i * j for j in range(1, 4)] for i in range(1, 4)]\nprint(table)"]},
  {"cell_type": "markdown", "metadata": {}, "source": ["## Генераторы для множеств и словарей\n\n- Множества: `{x for x in ...}`\n- Словари: `{k: v for k, v in ...}`"]},
  {"cell_type": "code", "execution_count": null, "metadata": {}, "outputs": [], "source": ["# Пример: set comprehension\nunique = {x % 3 for x in range(10)}\nprint(unique)"]},
  {"cell_type": "code", "execution_count": null, "metadata": {}, "outputs": [], "source": ["# Пример: dict comprehension\nnums = [1, 2, 3]\nsquares = {x: x*x for x in nums}\nprint(squares)"]},
  {"cell_type": "markdown", "metadata": {}, "source": ["## Типичные ошибки и примеры"]},
  {"cell_type": "code", "execution_count": null, "metadata": {}, "outputs": [], "source": ["# Ошибка: забыли for\ntry:\n    lst = [x*2 if x>0]\nexcept SyntaxError as e:\n    print('Ошибка:', e)"]},
  {"cell_type": "code", "execution_count": null, "metadata": {}, "outputs": [], "source": ["# Ошибка: сложные вложенные конструкции\ntry:\n    lst = [x*y for x in range(3) for y in range(3) if x+y > 2]\n    print(lst)\nexcept Exception as e:\n    print('Ошибка:', e)"]},
  {"cell_type": "markdown", "metadata": {}, "source": ["## Лайфхаки и советы\n\n- Генераторы экономят место и делают код короче.\n- Не делай слишком сложные вложенные генераторы — лучше обычный цикл.\n- Можно делать генераторы для списков, множеств, словарей.\n- Внутри генератора можно использовать условие if для фильтрации."]}
 ],
 "metadata": {
  "kernelspec": {"display_name": "Python 3", "language": "python", "name": "python3"},
  "language_info": {"name": "python", "version": "3.10"}
 },
 "nbformat": 4,
 "nbformat_minor": 5
}
