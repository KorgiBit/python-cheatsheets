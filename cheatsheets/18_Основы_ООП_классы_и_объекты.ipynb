{
 "cells": [
  {"cell_type": "markdown", "metadata": {}, "source": ["# Основы ООП: классы и объекты"]},
  {"cell_type": "markdown", "metadata": {}, "source": ["**Что такое ООП?**\n\nОбъектно-ориентированное программирование (ООП) — подход, в котором программа строится из объектов (экземпляров классов).\n\n- **Класс** — шаблон (чертёж) для создания объектов.\n- **Объект** — конкретный экземпляр класса."]},
  {"cell_type": "markdown", "metadata": {}, "source": ["## Объявление класса\n\n```python\nclass Cat:\n    pass\n```\n\nСоздаём пустой класс Cat."]},
  {"cell_type": "code", "execution_count": null, "metadata": {}, "outputs": [], "source": ["# Пример: простой класс\nclass Cat:\n    pass\n\ncat1 = Cat()\nprint(type(cat1))"]},
  {"cell_type": "markdown", "metadata": {}, "source": ["## Атрибуты экземпляра и класса\n\n- **Атрибут экземпляра** создаётся через self в __init__\n- **Атрибут класса** — общий для всех объектов\n\n```python\nclass Dog:\n    species = 'Canis familiaris'  # атрибут класса\n    def __init__(self, name):\n        self.name = name  # атрибут экземпляра\n```"]},
  {"cell_type": "code", "execution_count": null, "metadata": {}, "outputs": [], "source": ["class Dog:\n    species = 'Canis familiaris'\n    def __init__(self, name):\n        self.name = name\n\nd1 = Dog('Бобик')\nd2 = Dog('Шарик')\nprint(d1.name, d1.species)\nprint(d2.name, d2.species)"]},
  {"cell_type": "markdown", "metadata": {}, "source": ["## Методы класса\n\n- **Метод** — функция внутри класса.\n- Первый параметр всегда self (ссылка на объект).\n\n```python\nclass Person:\n    def say_hello(self):\n        print('Привет!')\n```"]},
  {"cell_type": "code", "execution_count": null, "metadata": {}, "outputs": [], "source": ["class Person:\n    def say_hello(self):\n        print('Привет!')\n\np = Person()\np.say_hello()"]},
  {"cell_type": "markdown", "metadata": {}, "source": ["## Конструктор __init__\n\n- Вызывается при создании объекта\n- Используется для инициализации атрибутов\n\n```python\nclass Circle:\n    def __init__(self, r):\n        self.radius = r\n```"]},
  {"cell_type": "code", "execution_count": null, "metadata": {}, "outputs": [], "source": ["class Circle:\n    def __init__(self, r):\n        self.radius = r\n\nc = Circle(5)\nprint(c.radius)"]},
  {"cell_type": "markdown", "metadata": {}, "source": ["## Наследование\n\nКласс может наследовать свойства и методы другого класса.\n\n```python\nclass Animal:\n    def sound(self):\n        print('Звук животного')\n\nclass Cat(Animal):\n    def sound(self):\n        print('Мяу!')\n```"]},
  {"cell_type": "code", "execution_count": null, "metadata": {}, "outputs": [], "source": ["class Animal:\n    def sound(self):\n        print('Звук животного')\n\nclass Cat(Animal):\n    def sound(self):\n        print('Мяу!')\n\nc = Cat()\nc.sound()"]},
  {"cell_type": "markdown", "metadata": {}, "source": ["## Приватные атрибуты и методы\n\n- Одинарное подчёркивание (`_secret`) — соглашение о приватности.\n- Двойное подчёркивание (`__very_secret`) — name mangling (строгая приватность).\n\n```python\nclass BankAccount:\n    def __init__(self, owner, balance):\n        self.owner = owner\n        self._balance = balance\n        self.__pin = '1234'\n```"]},
  {"cell_type": "code", "execution_count": null, "metadata": {}, "outputs": [], "source": ["class BankAccount:\n    def __init__(self, owner, balance):\n        self.owner = owner\n        self._balance = balance  # приватный атрибут\n        self.__pin = '1234'     # строго приватный атрибут\n    def get_balance(self):\n        return self._balance\n\nacc = BankAccount('Иван', 1000)\nprint(acc.get_balance())\nprint(acc._balance)\n# print(acc.__pin)  # AttributeError"]},
  {"cell_type": "markdown", "metadata": {}, "source": ["## Полиморфизм и переопределение методов\n\n- Разные классы могут иметь методы с одинаковым именем.\n- При вызове метода у объекта вызывается реализация этого класса."]},
  {"cell_type": "code", "execution_count": null, "metadata": {}, "outputs": [], "source": ["class Bird:\n    def sound(self):\n        print('Чирик!')\n\nclass Dog:\n    def sound(self):\n        print('Гав!')\n\nfor animal in [Bird(), Dog()]:\n    animal.sound()"]},
  {"cell_type": "markdown", "metadata": {}, "source": ["## Типичные ошибки и примеры"]},
  {"cell_type": "code", "execution_count": null, "metadata": {}, "outputs": [], "source": ["# Ошибка: забыли self\ntry:\n    class Bad:\n        def foo():\n            print('Нет self!')\n    b = Bad()\n    b.foo()\nexcept TypeError as e:\n    print('Ошибка:', e)"]},
  {"cell_type": "code", "execution_count": null, "metadata": {}, "outputs": [], "source": ["# Ошибка: обращение к несуществующему атрибуту\ntry:\n    class Person:\n        pass\n    p = Person()\n    print(p.name)\nexcept AttributeError as e:\n    print('Ошибка:', e)"]},
  {"cell_type": "markdown", "metadata": {}, "source": ["## Лайфхаки и советы\n\n- Всегда пиши self первым параметром методов.\n- Атрибуты экземпляра создаются через self.\n- Используй наследование для повторного использования кода.\n- Используй приватные атрибуты для внутренних данных.\n- Для документации класса используй docstring: '''Описание'''.\n- Используй функцию isinstance(obj, Class) для проверки типа объекта."]}
 ],
 "metadata": {
  "kernelspec": {"display_name": "Python 3", "language": "python", "name": "python3"},
  "language_info": {"name": "python", "version": "3.10"}
 },
 "nbformat": 4,
 "nbformat_minor": 5
}
