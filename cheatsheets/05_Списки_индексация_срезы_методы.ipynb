{
 "cells": [
  {
   "cell_type": "markdown",
   "id": "c3be4db4",
   "metadata": {},
   "source": [
    "# Списки: индексация, срезы, методы\n"
   ]
  },
  {
   "cell_type": "markdown",
   "id": "b1b2566c",
   "metadata": {},
   "source": [
    "**Что это?**\n",
    "\n",
    "Список (list) — это упорядоченный набор элементов. Можно хранить числа, строки и даже другие списки!"
   ]
  },
  {
   "cell_type": "markdown",
   "id": "f0c17311",
   "metadata": {},
   "source": [
    "**Синтаксис**\n",
    "\n",
    "```python\n",
    "my_list = [1, 2, 3, 'a', [4, 5]]\n",
    "```\n"
   ]
  },
  {
   "cell_type": "markdown",
   "id": "0821ef9f",
   "metadata": {},
   "source": [
    "**Основные методы и операции**\n",
    "\n",
    "- `append(x)` — добавить в конец\n",
    "- `insert(i, x)` — вставить на позицию\n",
    "- `remove(x)` — удалить по значению\n",
    "- `pop(i)` — удалить по индексу (и вернуть)\n",
    "- `sort()` — сортировка\n",
    "- `reverse()` — разворот списка\n",
    "- `count(x)` — сколько раз встречается x\n",
    "- `index(x)` — индекс первого x\n",
    "- `clear()` — удалить все элементы\n",
    "- `copy()` — копия списка\n"
   ]
  },
  {
   "cell_type": "code",
   "execution_count": null,
   "id": "625e5b6f",
   "metadata": {},
   "outputs": [],
   "source": [
    "# Пример: append\n",
    "l = [1, 2, 3]\n",
    "l.append(4)\n",
    "print(l)  # [1, 2, 3, 4]\n"
   ]
  },
  {
   "cell_type": "code",
   "execution_count": null,
   "id": "6cdb6def",
   "metadata": {},
   "outputs": [],
   "source": [
    "# Пример: insert\n",
    "l = [1, 2, 3]\n",
    "l.insert(1, 'a')\n",
    "print(l)  # [1, 'a', 2, 3]\n"
   ]
  },
  {
   "cell_type": "code",
   "execution_count": null,
   "id": "3630bdc4",
   "metadata": {},
   "outputs": [],
   "source": [
    "# Пример: remove\n",
    "l = [1, 2, 3, 2]\n",
    "l.remove(2)\n",
    "print(l)  # [1, 3, 2]\n"
   ]
  },
  {
   "cell_type": "code",
   "execution_count": null,
   "id": "23f0a9cd",
   "metadata": {},
   "outputs": [],
   "source": [
    "# Пример: pop\n",
    "l = [1, 2, 3]\n",
    "removed = l.pop(1)\n",
    "print('список:', l, 'удалили:', removed)\n"
   ]
  },
  {
   "cell_type": "code",
   "execution_count": null,
   "id": "af1ef8b0",
   "metadata": {},
   "outputs": [],
   "source": [
    "# Пример: sort и reverse\n",
    "l = [3, 1, 4, 2]\n",
    "l.sort()\n",
    "print('sort:', l)\n",
    "l.reverse()\n",
    "print('reverse:', l)\n"
   ]
  },
  {
   "cell_type": "code",
   "execution_count": null,
   "id": "c430aa0f",
   "metadata": {},
   "outputs": [],
   "source": [
    "# Пример: count и index\n",
    "l = [1, 2, 2, 3, 2]\n",
    "print('count 2:', l.count(2))\n",
    "print('index 3:', l.index(3))\n"
   ]
  },
  {
   "cell_type": "code",
   "execution_count": null,
   "id": "b4ec35a2",
   "metadata": {},
   "outputs": [],
   "source": [
    "# Пример: clear и copy\n",
    "l = [1, 2, 3]\n",
    "l2 = l.copy()\n",
    "l.clear()\n",
    "print('оригинал:', l, 'копия:', l2)\n"
   ]
  },
  {
   "cell_type": "markdown",
   "id": "441b8ec2",
   "metadata": {},
   "source": [
    "**Индексация и срезы**\n",
    "\n",
    "- Индексация с нуля: `l[0]` — первый элемент\n",
    "- Отрицательные индексы: `l[-1]` — последний элемент\n",
    "- Срезы: `l[1:3]` — элементы с 1 по 2 (3 не включительно)\n",
    "- Копия списка: `l[:]`\n",
    "- Шаг среза: `l[::2]` — каждый второй элемент\n",
    "- Замена части списка: `l[1:3] = [10, 11]`\n"
   ]
  },
  {
   "cell_type": "code",
   "execution_count": null,
   "id": "ec0a2f75",
   "metadata": {},
   "outputs": [],
   "source": [
    "# Примеры индексации и срезов\n",
    "l = [10, 20, 30, 40, 50]\n",
    "print('первый:', l[0])\n",
    "print('последний:', l[-1])\n",
    "print('срез 1:4:', l[1:4])\n",
    "print('каждый второй:', l[::2])\n",
    "l[1:3] = [100, 200]\n",
    "print('замена среза:', l)\n"
   ]
  },
  {
   "cell_type": "markdown",
   "id": "dafba3a1",
   "metadata": {},
   "source": [
    "**Типичные ошибки и примеры**\n"
   ]
  },
  {
   "cell_type": "code",
   "execution_count": null,
   "id": "8850139e",
   "metadata": {},
   "outputs": [],
   "source": [
    "# Ошибка: индекс за пределами списка\n",
    "l = [1, 2, 3]\n",
    "try:\n",
    "    print(l[10])\n",
    "except IndexError as e:\n",
    "    print('Ошибка:', e)\n"
   ]
  },
  {
   "cell_type": "code",
   "execution_count": null,
   "id": "3f7810ab",
   "metadata": {},
   "outputs": [],
   "source": [
    "# Ошибка: не тот метод\n",
    "l = [1, 2, 3]\n",
    "try:\n",
    "    l.upper()\n",
    "except AttributeError as e:\n",
    "    print('Ошибка:', e)\n"
   ]
  },
  {
   "cell_type": "code",
   "execution_count": null,
   "id": "e40ad7dc",
   "metadata": {},
   "outputs": [],
   "source": [
    "# Ошибка: изменяемость списков\n",
    "l1 = [1, 2, 3]\n",
    "l2 = l1\n",
    "l2.append(4)\n",
    "print('l1:', l1)  # [1, 2, 3, 4]\n"
   ]
  },
  {
   "cell_type": "code",
   "execution_count": null,
   "id": "298dbf68",
   "metadata": {},
   "outputs": [],
   "source": [
    "# Ошибка: имя list\n",
    "list = [1, 2, 3]\n",
    "try:\n",
    "    print(list([4, 5]))\n",
    "except TypeError as e:\n",
    "    print('Ошибка:', e)\n"
   ]
  },
  {
   "cell_type": "markdown",
   "id": "5142f332",
   "metadata": {},
   "source": [
    "**Лайфхаки с важными советами**\n",
    "\n",
    "- Для копирования списка используй `l.copy()` или срез `[:]`.\n",
    "- Для проверки наличия элемента: `x in l`.\n",
    "- Для удаления всех элементов — `l.clear()`.\n",
    "- Для перебора элементов: цикл `for x in l:`\n",
    "- Не бойся смешивать типы, но будь аккуратен при обработке!\n",
    "- Для объединения списков: `l1 + l2` или `l1.extend(l2)`\n",
    "- Для генерации списков — list comprehensions: `[x*2 for x in l]`\n"
   ]
  },
  {
   "cell_type": "markdown",
   "id": "804daba5",
   "metadata": {},
   "source": [
    "## Обращение к конкретному элементу списка\n",
    "Чтобы обратиться к элементу списка, используется его индекс:\n",
    "\n",
    "```python\n",
    "фрукты = ['яблоко', 'банан', 'киви']\n",
    "print(фрукты[0])  # 'яблоко' (индексация с нуля)\n",
    "print(фрукты[2])  # 'киви'\n",
    "```\n",
    "\n",
    "Можно также использовать **отрицательные индексы**, чтобы обращаться с конца списка:\n",
    "\n",
    "```python\n",
    "print(фрукты[-1])  # 'киви'\n",
    "print(фрукты[-2])  # 'банан'\n",
    "```"
   ]
  },
  {
   "cell_type": "markdown",
   "id": "609953aa",
   "metadata": {},
   "source": [
    "## Что такое срез списка\n",
    "Срез позволяет получить подсписок из части элементов:\n",
    "\n",
    "```python\n",
    "числа = [10, 20, 30, 40, 50]\n",
    "print(числа[1:4])  # элементы с индекса 1 по 3 включительно: [20, 30, 40]\n",
    "```\n",
    "\n",
    "**Формат:** `список[начало:конец:шаг]`\n",
    "- `начало` — индекс, с которого начинается срез (включительно)\n",
    "- `конец` — индекс, до которого делается срез (не включительно)\n",
    "- `шаг` — как изменяется индекс (по умолчанию 1)\n",
    "\n",
    "Примеры:\n",
    "```python\n",
    "print(числа[:3])     # первые три элемента: [10, 20, 30]\n",
    "print(числа[::2])    # каждый второй: [10, 30, 50]\n",
    "print(числа[::-1])   # список в обратном порядке: [50, 40, 30, 20, 10]\n",
    "```"
   ]
  }
 ],
 "metadata": {
  "kernelspec": {
   "display_name": "Python 3",
   "language": "python",
   "name": "python3"
  },
  "language_info": {
   "name": "python",
   "version": "3.10"
  }
 },
 "nbformat": 4,
 "nbformat_minor": 5
}
