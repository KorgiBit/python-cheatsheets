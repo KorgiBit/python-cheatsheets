{
 "cells": [
  {"cell_type": "markdown", "metadata": {}, "source": ["# Множества: операции и применение\n"]},
  {"cell_type": "markdown", "metadata": {}, "source": ["**Что такое множество?**\n\nМножество (`set`) — это неупорядоченная коллекция уникальных элементов. Используется для проверки принадлежности, удаления дубликатов, математических операций над группами данных."]},
  {"cell_type": "markdown", "metadata": {}, "source": ["**Создание множества**\n\n```python\ns = {1, 2, 3}\ns2 = set([3, 4, 5])\nempty = set()  # пустое множество, не путать с {} (это словарь)\n```\n"]},
  {"cell_type": "code", "execution_count": null, "metadata": {}, "outputs": [], "source": ["# Пример: создание множества\ns = {1, 2, 3, 2, 1}\nprint(s)  # {1, 2, 3} — дубликаты удаляются\n"]},
  {"cell_type": "markdown", "metadata": {}, "source": ["**Основные методы и операции**\n\n- `add(x)` — добавить элемент\n- `remove(x)` — удалить (ошибка, если нет)\n- `discard(x)` — удалить (без ошибки)\n- `pop()` — удалить и вернуть случайный элемент\n- `clear()` — очистить множество\n- `copy()` — копия множества\n- `len(s)` — количество элементов\n- `in` — проверка наличия\n"]},
  {"cell_type": "code", "execution_count": null, "metadata": {}, "outputs": [], "source": ["# Примеры методов\ns = set()\ns.add(10)\ns.add(20)\nprint('после add:', s)\ns.remove(10)\nprint('после remove:', s)\ns.discard(30)  # не вызовет ошибку\nprint('после discard:', s)\ns.add(40)\nvalue = s.pop()\nprint('после pop:', s, 'удалили:', value)\ns.clear()\nprint('после clear:', s)\n"]},
  {"cell_type": "code", "execution_count": null, "metadata": {}, "outputs": [], "source": ["# Копирование и длина\ns1 = {1, 2, 3}\ns2 = s1.copy()\nprint('копия:', s2)\nprint('длина:', len(s2))\n"]},
  {"cell_type": "markdown", "metadata": {}, "source": ["**Математические операции над множествами**\n\n- `|` или `union()` — объединение\n- `&` или `intersection()` — пересечение\n- `-` или `difference()` — разность\n- `^` или `symmetric_difference()` — симметричная разность\n- `issubset()` — подмножество\n- `issuperset()` — надмножество\n- `isdisjoint()` — не имеют общих элементов\n"]},
  {"cell_type": "code", "execution_count": null, "metadata": {}, "outputs": [], "source": ["# Примеры операций\na = {1, 2, 3}\nb = {2, 3, 4}\nprint('union:', a | b)\nprint('intersection:', a & b)\nprint('difference:', a - b)\nprint('symmetric_difference:', a ^ b)\nprint('issubset:', {1, 2} <= a)\nprint('issuperset:', a >= {1, 2})\nprint('isdisjoint:', a.isdisjoint({5, 6}))\n"]},
  {"cell_type": "markdown", "metadata": {}, "source": ["**Применение множеств**\n\n- Удаление дубликатов из списка:\n\n```python\nnums = [1, 2, 2, 3, 4, 4]\nunique = list(set(nums))\nprint(unique)\n```\n\n- Быстрая проверка принадлежности:\n\n```python\nfruits = {'apple', 'banana'}\nprint('apple' in fruits)  # True\n```\n"]},
  {"cell_type": "code", "execution_count": null, "metadata": {}, "outputs": [], "source": ["# Удаление дубликатов из списка\nnums = [1, 2, 2, 3, 4, 4]\nunique = list(set(nums))\nprint(unique)\n"]},
  {"cell_type": "code", "execution_count": null, "metadata": {}, "outputs": [], "source": ["# Быстрая проверка принадлежности\nfruits = {'apple', 'banana'}\nprint('apple' in fruits)\nprint('orange' in fruits)\n"]},
  {"cell_type": "markdown", "metadata": {}, "source": ["**Типичные ошибки и примеры**\n"]},
  {"cell_type": "code", "execution_count": null, "metadata": {}, "outputs": [], "source": ["# Ошибка: remove несуществующего элемента\ns = {1, 2, 3}\ntry:\n    s.remove(5)\nexcept KeyError as e:\n    print('Ошибка:', e)\n"]},
  {"cell_type": "code", "execution_count": null, "metadata": {}, "outputs": [], "source": ["# Ошибка: изменяемый элемент внутри множества\ntry:\n    s = {[1, 2], 3}\nexcept TypeError as e:\n    print('Ошибка:', e)\n"]},
  {"cell_type": "markdown", "metadata": {}, "source": ["**Лайфхаки и советы**\n\n- Для пустого множества используй только `set()`.\n- Множества не сохраняют порядок элементов.\n- Можно быстро находить общие элементы между группами.\n- Не называй переменные `set`.\n- Для подсчёта уникальных значений в списке — `len(set(...))`.\n"]}
 ],
 "metadata": {
  "kernelspec": {"display_name": "Python 3", "language": "python", "name": "python3"},
  "language_info": {"name": "python", "version": "3.10"}
 },
 "nbformat": 4,
 "nbformat_minor": 5
}
