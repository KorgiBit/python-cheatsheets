{
 "cells": [
  {"cell_type": "markdown", "metadata": {}, "source": ["# Логические операторы и сравнения"]},
  {"cell_type": "markdown", "metadata": {}, "source": ["**Что это?**\n\nЛогические операторы и операторы сравнения позволяют проверять условия и строить сложные выражения в Python."]},
  {"cell_type": "markdown", "metadata": {}, "source": ["## Операторы сравнения\n\n- `==` — равно\n- `!=` — не равно\n- `>` — больше\n- `<` — меньше\n- `>=` — больше или равно\n- `<=` — меньше или равно"]},
  {"cell_type": "code", "execution_count": null, "metadata": {}, "outputs": [], "source": ["# Примеры операторов сравнения\na = 5\nb = 3\nprint(a == b)  # False\nprint(a != b)  # True\nprint(a > b)   # True\nprint(a <= b)  # False"]},
  {"cell_type": "markdown", "metadata": {}, "source": ["## Логические операторы\n\n- `and` — и\n- `or` — или\n- `not` — не"]},
  {"cell_type": "code", "execution_count": null, "metadata": {}, "outputs": [], "source": ["# Примеры логических операторов\nx = 7\nprint(x > 0 and x < 10)   # True\nprint(x < 0 or x > 5)      # True\nprint(not (x == 7))        # False"]},
  {"cell_type": "markdown", "metadata": {}, "source": ["## Комбинирование условий\n\nМожно объединять несколько условий с помощью and, or, not и скобок:"]},
  {"cell_type": "code", "execution_count": null, "metadata": {}, "outputs": [], "source": ["# Пример: сложное условие\nage = 16\ncity = 'Москва'\nif (age >= 14 and city == 'Москва') or age >= 18:\n    print('Доступ разрешён')\nelse:\n    print('Доступ запрещён')"]},
  {"cell_type": "markdown", "metadata": {}, "source": ["## Проверка на равенство с несколькими значениями\n\nМожно использовать in для проверки наличия значения в списке:"]},
  {"cell_type": "code", "execution_count": null, "metadata": {}, "outputs": [], "source": ["# Пример: in для сравнения\ncolor = 'red'\nif color in ['red', 'green', 'blue']:\n    print('Цвет допустим')"]},
  {"cell_type": "markdown", "metadata": {}, "source": ["## Особенности сравнения строк и списков\n\n- Строки сравниваются по алфавиту.\n- Списки сравниваются поэлементно."]},
  {"cell_type": "code", "execution_count": null, "metadata": {}, "outputs": [], "source": ["# Пример: сравнение строк\nprint('abc' < 'bcd')  # True\nprint('abc' == 'ABC') # False"]},
  {"cell_type": "code", "execution_count": null, "metadata": {}, "outputs": [], "source": ["# Пример: сравнение списков\nprint([1,2,3] < [1,2,4])  # True\nprint([1,2,3] == [1,2,3]) # True"]},
  {"cell_type": "markdown", "metadata": {}, "source": ["## Типичные ошибки и примеры"]},
  {"cell_type": "code", "execution_count": null, "metadata": {}, "outputs": [], "source": ["# Ошибка: сравнение разных типов\ntry:\n    print(5 < '5')\nexcept TypeError as e:\n    print('Ошибка:', e)"]},
  {"cell_type": "code", "execution_count": null, "metadata": {}, "outputs": [], "source": ["# Ошибка: присваивание вместо сравнения\nx = 10\ntry:\n    exec(\"if x = 10:\\\n    print('ok')\")\nexcept SyntaxError as e:\n    print('Ошибка:', e)"]},
  {"cell_type": "markdown", "metadata": {}, "source": ["## Лайфхаки и советы\n\n- Для сложных условий всегда ставь скобки — так код легче читать.\n- Не путай `=` (присваивание) и `==` (сравнение).\n- Для проверки на принадлежность используй `in`.\n- Не сравнивай напрямую объекты разных типов.\n- Результат сравнения — это всегда True или False."]}
 ],
 "metadata": {
  "kernelspec": {"display_name": "Python 3", "language": "python", "name": "python3"},
  "language_info": {"name": "python", "version": "3.10"}
 },
 "nbformat": 4,
 "nbformat_minor": 5
}
