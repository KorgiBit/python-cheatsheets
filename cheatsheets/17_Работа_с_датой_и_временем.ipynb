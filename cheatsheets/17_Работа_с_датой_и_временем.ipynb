{
 "cells": [
  {"cell_type": "markdown", "metadata": {}, "source": ["# Работа с датой и временем"]},
  {"cell_type": "markdown", "metadata": {}, "source": ["**Что это?**\n\nДля работы с датой и временем в Python используют стандартный модуль `datetime` и иногда модуль `time`."]},
  {"cell_type": "markdown", "metadata": {}, "source": ["## Получение текущей даты и времени\n\n```python\nfrom datetime import datetime\nnow = datetime.now()\n```"]},
  {"cell_type": "code", "execution_count": null, "metadata": {}, "outputs": [], "source": ["from datetime import datetime\nnow = datetime.now()\nprint('Сейчас:', now)"]},
  {"cell_type": "markdown", "metadata": {}, "source": ["## Форматирование даты и времени\n\n- `strftime` — преобразует дату/время в строку по формату\n- `strptime` — преобразует строку в дату/время по формату"]},
  {"cell_type": "code", "execution_count": null, "metadata": {}, "outputs": [], "source": ["# Пример: форматирование даты\nprint(now.strftime('%d.%m.%Y %H:%M'))"]},
  {"cell_type": "code", "execution_count": null, "metadata": {}, "outputs": [], "source": ["# Пример: строка в дату\ndate_str = '18.04.2025'\ndt = datetime.strptime(date_str, '%d.%m.%Y')\nprint(dt)"]},
  {"cell_type": "markdown", "metadata": {}, "source": ["## Работа с timedelta (разница во времени)"]},
  {"cell_type": "code", "execution_count": null, "metadata": {}, "outputs": [], "source": ["from datetime import timedelta\nnext_week = now + timedelta(days=7)\nprint('Через неделю:', next_week)"]},
  {"cell_type": "code", "execution_count": null, "metadata": {}, "outputs": [], "source": ["# Разница между датами\nbirthday = datetime(2025, 5, 1)\ndiff = birthday - now\nprint('До дня рождения:', diff.days, 'дней')"]},
  {"cell_type": "markdown", "metadata": {}, "source": ["## Модуль time\n\nИногда нужен для паузы и получения времени в секундах."]},
  {"cell_type": "code", "execution_count": null, "metadata": {}, "outputs": [], "source": ["import time\nprint('Текущее время (timestamp):', time.time())\nprint('Пауза 2 секунды...')\ntime.sleep(2)\nprint('Готово!')"]},
  {"cell_type": "markdown", "metadata": {}, "source": ["## Типичные ошибки и примеры"]},
  {"cell_type": "code", "execution_count": null, "metadata": {}, "outputs": [], "source": ["# Ошибка: неверный формат даты\ntry:\n    datetime.strptime('2025/04/18', '%d.%m.%Y')\nexcept ValueError as e:\n    print('Ошибка:', e)"]},
  {"cell_type": "code", "execution_count": null, "metadata": {}, "outputs": [], "source": ["# Ошибка: отрицательная пауза\ntry:\n    time.sleep(-1)\nexcept ValueError as e:\n    print('Ошибка:', e)"]},
  {"cell_type": "markdown", "metadata": {}, "source": ["## Лайфхаки и советы\n\n- Для текущей даты/времени используй datetime.now().\n- Для паузы — time.sleep().\n- Для разницы между датами — timedelta.\n- Форматы даты: %d — день, %m — месяц, %Y — год, %H — часы, %M — минуты.\n- Проверяй форматы при преобразовании строки в дату."]}
 ],
 "metadata": {
  "kernelspec": {"display_name": "Python 3", "language": "python", "name": "python3"},
  "language_info": {"name": "python", "version": "3.10"}
 },
 "nbformat": 4,
 "nbformat_minor": 5
}
