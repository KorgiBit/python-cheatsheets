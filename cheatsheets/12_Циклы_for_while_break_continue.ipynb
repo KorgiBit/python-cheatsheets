{
 "cells": [
  {"cell_type": "markdown", "metadata": {}, "source": ["# Циклы: for, while, break, continue"]},
  {"cell_type": "markdown", "metadata": {}, "source": ["**Что такое цикл?**\n\nЦиклы позволяют повторять действия много раз. В Python есть два основных типа циклов: `for` и `while`."]},
  {"cell_type": "markdown", "metadata": {}, "source": ["## Цикл for\n\nИспользуется для перебора элементов последовательности (списка, строки, диапазона и др.).\n\n```python\nfor переменная in последовательность:\n    # действия\n```"]},
  {"cell_type": "code", "execution_count": null, "metadata": {}, "outputs": [], "source": ["# Пример: цикл for по списку\nfruits = ['яблоко', 'банан', 'груша']\nfor fruit in fruits:\n    print(fruit)"]},
  {"cell_type": "code", "execution_count": null, "metadata": {}, "outputs": [], "source": ["# Пример: цикл for по строке\nfor char in 'python':\n    print(char)"]},
  {"cell_type": "code", "execution_count": null, "metadata": {}, "outputs": [], "source": ["# Пример: цикл for с range\nfor i in range(3):\n    print('Итерация', i)"]},
  {"cell_type": "markdown", "metadata": {}, "source": ["## Цикл while\n\nВыполняется, пока условие истинно.\n\n```python\nwhile условие:\n    # действия\n```"]},
  {"cell_type": "code", "execution_count": null, "metadata": {}, "outputs": [], "source": ["# Пример: цикл while\ncount = 0\nwhile count < 3:\n    print('Счётчик:', count)\n    count += 1"]},
  {"cell_type": "markdown", "metadata": {}, "source": ["## break и continue\n\n- `break` — выйти из цикла досрочно\n- `continue` — перейти к следующей итерации\n"]},
  {"cell_type": "code", "execution_count": null, "metadata": {}, "outputs": [], "source": ["# Пример: break\nfor i in range(10):\n    if i == 5:\n        break\n    print(i)"]},
  {"cell_type": "code", "execution_count": null, "metadata": {}, "outputs": [], "source": ["# Пример: continue\nfor i in range(5):\n    if i == 2:\n        continue\n    print(i)"]},
  {"cell_type": "markdown", "metadata": {}, "source": ["## else с циклами\n\nБлок else выполняется, если цикл завершился без break."]},
  {"cell_type": "code", "execution_count": null, "metadata": {}, "outputs": [], "source": ["# Пример: else в цикле\nfor i in range(3):\n    print(i)\nelse:\n    print('Цикл завершён')"]},
  {"cell_type": "markdown", "metadata": {}, "source": ["## Вложенные циклы\n\nЦикл внутри цикла:"]},
  {"cell_type": "code", "execution_count": null, "metadata": {}, "outputs": [], "source": ["# Пример: вложенные циклы\nfor i in range(2):\n    for j in range(3):\n        print(f'i={i}, j={j}')"]},
  {"cell_type": "markdown", "metadata": {}, "source": ["## Типичные ошибки и примеры"]},
  {"cell_type": "code", "execution_count": null, "metadata": {}, "outputs": [], "source": ["# Ошибка: бесконечный цикл\n# (ОСТОРОЖНО: этот код не запускайте без изменений!)\n# while True:\n#     print('Бесконечный цикл')"]},
  {"cell_type": "code", "execution_count": null, "metadata": {}, "outputs": [], "source": ["# Ошибка: изменение списка во время цикла\nnums = [1, 2, 3]\ntry:\n    for n in nums:\n        nums.remove(n)\nexcept Exception as e:\n    print('Ошибка:', e)\nprint('Результат:', nums)"]},
  {"cell_type": "markdown", "metadata": {}, "source": ["## Лайфхаки и советы\n\n- Для перебора индексов и значений используй enumerate().\n- Для обратного цикла — range(len(...)-1, -1, -1).\n- Не изменяй список во время перебора по нему.\n- break — для досрочного выхода, continue — чтобы пропустить шаг.\n- else после цикла — редкая, но полезная конструкция."]}
 ],
 "metadata": {
  "kernelspec": {"display_name": "Python 3", "language": "python", "name": "python3"},
  "language_info": {"name": "python", "version": "3.10"}
 },
 "nbformat": 4,
 "nbformat_minor": 5
}
