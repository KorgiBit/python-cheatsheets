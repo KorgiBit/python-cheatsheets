{
 "cells": [
  {"cell_type": "markdown", "metadata": {}, "source": ["# Файлы: чтение и запись\n"]},
  {"cell_type": "markdown", "metadata": {}, "source": ["**Что такое работа с файлами?**\n\nРабота с файлами — это чтение и запись данных на диск. В Python для этого есть встроенные функции и методы."]},
  {"cell_type": "markdown", "metadata": {}, "source": ["**Открытие файла**\n\n```python\nf = open('data.txt', 'r')  # открыть для чтения\nf = open('data.txt', 'w')  # открыть для записи (стирает файл!)\nf = open('data.txt', 'a')  # открыть для добавления\n```\n"]},
  {"cell_type": "code", "execution_count": null, "metadata": {}, "outputs": [], "source": ["# Пример: запись в файл\nwith open('example.txt', 'w') as f:\n    f.write('Привет, файл!\n')\n    f.write('Вторая строка.\n')\n"]},
  {"cell_type": "code", "execution_count": null, "metadata": {}, "outputs": [], "source": ["# Пример: чтение файла построчно\nwith open('example.txt', 'r') as f:\n    for line in f:\n        print('Строка:', line.strip())\n"]},
  {"cell_type": "code", "execution_count": null, "metadata": {}, "outputs": [], "source": ["# Пример: чтение всего файла в строку\nwith open('example.txt', 'r') as f:\n    content = f.read()\nprint('Содержимое файла:', content)\n"]},
  {"cell_type": "code", "execution_count": null, "metadata": {}, "outputs": [], "source": ["# Пример: добавление в файл\nwith open('example.txt', 'a') as f:\n    f.write('Добавленная строка.\n')\n"]},
  {"cell_type": "markdown", "metadata": {}, "source": ["**Чтение файла в список строк**\n\n```python\nwith open('example.txt', 'r') as f:\n    lines = f.readlines()\nprint(lines)\n```\n"]},
  {"cell_type": "code", "execution_count": null, "metadata": {}, "outputs": [], "source": ["# Чтение файла в список строк\nwith open('example.txt', 'r') as f:\n    lines = f.readlines()\nprint(lines)\n"]},
  {"cell_type": "markdown", "metadata": {}, "source": ["**Типичные ошибки и примеры**\n"]},
  {"cell_type": "code", "execution_count": null, "metadata": {}, "outputs": [], "source": ["# Ошибка: файл не найден\ntry:\n    with open('nofile.txt', 'r') as f:\n        f.read()\nexcept FileNotFoundError as e:\n    print('Ошибка:', e)\n"]},
  {"cell_type": "code", "execution_count": null, "metadata": {}, "outputs": [], "source": ["# Ошибка: попытка записи в файл, открытый только для чтения\ntry:\n    with open('example.txt', 'r') as f:\n        f.write('test')\nexcept Exception as e:\n    print('Ошибка:', e)\n"]},
  {"cell_type": "markdown", "metadata": {}, "source": ["**Лайфхаки и советы**\n\n- Используй конструкцию `with open(...) as f:` — файл закроется автоматически.\n- Режим 'w' перезаписывает файл, а 'a' — добавляет в конец.\n- Для чтения больших файлов читай их по строкам в цикле.\n- Не забывай про кодировку (`encoding='utf-8'`), особенно для русского текста.\n- Проверяй, существует ли файл, если не хочешь получить ошибку.\n"]}
 ],
 "metadata": {
  "kernelspec": {"display_name": "Python 3", "language": "python", "name": "python3"},
  "language_info": {"name": "python", "version": "3.10"}
 },
 "nbformat": 4,
 "nbformat_minor": 5
}
