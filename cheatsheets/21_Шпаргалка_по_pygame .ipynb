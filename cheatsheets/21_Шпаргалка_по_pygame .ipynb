{
 "cells": [
  {
   "cell_type": "markdown",
   "id": "6de9f018",
   "metadata": {},
   "source": [
    "### Вспоминаю технологию"
   ]
  }
 ],
 "metadata": {
  "language_info": {
   "name": "python"
  }
 },
 "nbformat": 4,
 "nbformat_minor": 5
}
