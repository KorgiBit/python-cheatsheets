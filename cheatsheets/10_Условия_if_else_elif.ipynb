{
 "cells": [
  {"cell_type": "markdown", "metadata": {}, "source": ["# Условия: if, else, elif"]},
  {"cell_type": "markdown", "metadata": {}, "source": ["**Что такое условие?**\n\nУсловия позволяют выполнять разные действия в зависимости от ситуации. В Python для этого используют конструкции `if`, `elif`, `else`."]},
  {"cell_type": "markdown", "metadata": {}, "source": ["**Синтаксис**\n\n```python\nif условие:\n    # действия, если условие True\nelif другое_условие:\n    # действия, если другое условие True\nelse:\n    # действия, если ни одно условие не выполнилось\n```"]},
  {"cell_type": "code", "execution_count": null, "metadata": {}, "outputs": [], "source": ["# Пример: простое условие\nx = 10\nif x > 5:\n    print('x больше 5')"]},
  {"cell_type": "code", "execution_count": null, "metadata": {}, "outputs": [], "source": ["# Пример: if-else\nname = 'Аня'\nif name == 'Аня':\n    print('Привет, Аня!')\nelse:\n    print('Ты не Аня :(')"]},
  {"cell_type": "code", "execution_count": null, "metadata": {}, "outputs": [], "source": ["# Пример: if-elif-else\nscore = 75\nif score >= 90:\n    print('Отлично!')\nelif score >= 60:\n    print('Нормально')\nelse:\n    print('Плохо')"]},
  {"cell_type": "markdown", "metadata": {}, "source": ["**Вложенные условия**"]},
  {"cell_type": "code", "execution_count": null, "metadata": {}, "outputs": [], "source": ["# Вложенные условия\nage = 15\nif age >= 18:\n    print('Доступ разрешён')\nelse:\n    if age >= 14:\n        print('Доступ частично разрешён')\n    else:\n        print('Доступ запрещён')"]},
  {"cell_type": "markdown", "metadata": {}, "source": ["**Сравнения и логические операторы в условиях**\n\n- `==` — равно\n- `!=` — не равно\n- `>` — больше\n- `<` — меньше\n- `>=` — больше или равно\n- `<=` — меньше или равно\n- `and`, `or`, `not` — логические операторы"]},
  {"cell_type": "code", "execution_count": null, "metadata": {}, "outputs": [], "source": ["# Пример: логические операторы\nnumber = 7\nif number > 0 and number % 2 == 1:\n    print('Положительное и нечётное')"]},
  {"cell_type": "code", "execution_count": null, "metadata": {}, "outputs": [], "source": ["# Пример: not\nlogged_in = False\nif not logged_in:\n    print('Пожалуйста, войдите в систему!')"]},
  {"cell_type": "markdown", "metadata": {}, "source": ["**Тернарный оператор (короткая запись if-else)**\n\n```python\nрезультат = 'Да' if условие else 'Нет'\n```"]},
  {"cell_type": "code", "execution_count": null, "metadata": {}, "outputs": [], "source": ["# Пример: тернарный оператор\nage = 20\nstatus = 'совершеннолетний' if age >= 18 else 'несовершеннолетний'\nprint(status)"]},
  {"cell_type": "markdown", "metadata": {}, "source": ["**Типичные ошибки и примеры**"]},
  {"cell_type": "code", "execution_count": null, "metadata": {}, "outputs": [], "source": ["# Ошибка: отсутствие отступа\ntry:\n    exec(\"if True:\\\nprint(42)\")\nexcept IndentationError as e:\n    print('Ошибка:', e)"]},
  {"cell_type": "code", "execution_count": null, "metadata": {}, "outputs": [], "source": ["# Ошибка: сравнение с одним знаком равно\nx = 5\ntry:\n    exec(\"if x = 5:\\\n    print('ok')\")\nexcept SyntaxError as e:\n    print('Ошибка:', e)"]},
  {"cell_type": "markdown", "metadata": {}, "source": ["**Лайфхаки и советы**\n\n- Всегда соблюдай отступы (4 пробела или таб).\n- Для сложных условий используй скобки для читаемости.\n- Не забывай про elif — это удобно, когда условий много.\n- Проверяй граничные значения (например, >= и >).\n- Условия можно комбинировать через and, or, not."]}
 ],
 "metadata": {
  "kernelspec": {"display_name": "Python 3", "language": "python", "name": "python3"},
  "language_info": {"name": "python", "version": "3.10"}
 },
 "nbformat": 4,
 "nbformat_minor": 5
}
