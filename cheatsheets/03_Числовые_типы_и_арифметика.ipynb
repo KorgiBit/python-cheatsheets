{
 "cells": [
  {"cell_type": "markdown", "metadata": {}, "source": ["# Числовые типы и арифметика\n"]},
  {"cell_type": "markdown", "metadata": {}, "source": ["**Что это?**\n\nЧисловые типы — основа математики в Python. С ними ты можешь складывать, вычитать, умножать, делить, сравнивать, округлять, считать проценты и проверять чётность."]},
  {"cell_type": "markdown", "metadata": {}, "source": ["**Синтаксис**\n\n```python\na = 5      # int\nb = 3.14   # float\n```\n"]},
  {"cell_type": "markdown", "metadata": {}, "source": ["**Основные типы**\n\n- `int` — целое число\n- `float` — число с плавающей точкой"]},
  {"cell_type": "markdown", "metadata": {}, "source": ["**Операторы и функции**\n\n- `+` — сложение\n- `-` — вычитание\n- `*` — умножение\n- `/` — деление (float)\n- `//` — целочисленное деление\n- `%` — остаток от деления\n- `**` — возведение в степень\n- `abs(x)` — модуль числа\n- `round(x, n)` — округление до n знаков\n- `pow(x, y)` — x в степени y\n- `divmod(a, b)` — кортеж (a // b, a % b)\n- `min()`, `max()`, `sum()`\n- `int()`, `float()` — преобразование типов\n- `math.sqrt(x)`, `math.ceil(x)`, `math.floor(x)`\n"]},
  {"cell_type": "code", "execution_count": null, "metadata": {}, "outputs": [], "source": ["# Сложение, вычитание, умножение, деление\na = 7\nb = 2\nprint('a + b =', a + b)\nprint('a - b =', a - b)\nprint('a * b =', a * b)\nprint('a / b =', a / b)\nprint('a // b =', a // b)\nprint('a % b =', a % b)\nprint('a ** b =', a ** b)\n"]},
  {"cell_type": "code", "execution_count": null, "metadata": {}, "outputs": [], "source": ["# abs, round, pow, divmod\nprint('abs(-10) =', abs(-10))\nprint('round(3.14159, 2) =', round(3.14159, 2))\nprint('pow(2, 5) =', pow(2, 5))\nprint('divmod(17, 5) =', divmod(17, 5))\n"]},
  {"cell_type": "code", "execution_count": null, "metadata": {}, "outputs": [], "source": ["# min, max, sum\nnumbers = [3, 7, 1, 8]\nprint('min:', min(numbers))\nprint('max:', max(numbers))\nprint('sum:', sum(numbers))\n"]},
  {"cell_type": "code", "execution_count": null, "metadata": {}, "outputs": [], "source": ["# Преобразование типов\ns = '123'\nprint('int(s):', int(s))\nprint('float(s):', float(s))\n"]},
  {"cell_type": "code", "execution_count": null, "metadata": {}, "outputs": [], "source": ["# Модуль math\nimport math\nprint('math.sqrt(16):', math.sqrt(16))\nprint('math.ceil(3.2):', math.ceil(3.2))\nprint('math.floor(3.8):', math.floor(3.8))\n"]},
  {"cell_type": "markdown", "metadata": {}, "source": ["**Практические приёмы**\n\n- Проверить, делится ли число нацело: `a % b == 0`\n- Проверить, чётное ли число: `n % 2 == 0`\n- Найти процент от числа: `percent = value * 0.15`\n- Округлить результат: `round(число, 2)`\n- Получить целую и дробную часть: `divmod(a, b)`\n- Сравнить числа: `>`, `<`, `>=`, `<=`, `==`, `!=`\n- Получить минимум/максимум: `min(a, b)`, `max(a, b)`\n- Сумма элементов списка: `sum([1, 2, 3])`\n"]},
  {"cell_type": "code", "execution_count": null, "metadata": {}, "outputs": [], "source": ["# Проверка делимости и чётности\nnum = 42\nprint('num % 2 == 0:', num % 2 == 0)  # True, чётное\nprint('num % 5 == 0:', num % 5 == 0)  # False, не делится на 5\n"]},
  {"cell_type": "code", "execution_count": null, "metadata": {}, "outputs": [], "source": ["# Проценты и округление\nprice = 200\ndiscount = price * 0.2  # 20% скидка\nprint('discount:', discount)\nprint('round(discount, 1):', round(discount, 1))\n"]},
  {"cell_type": "markdown", "metadata": {}, "source": ["**Типичные ошибки и примеры**\n"]},
  {"cell_type": "code", "execution_count": null, "metadata": {}, "outputs": [], "source": ["# Ошибка: деление на ноль\ntry:\n    print(5 / 0)\nexcept ZeroDivisionError as e:\n    print('Ошибка:', e)  # ZeroDivisionError: division by zero\n"]},
  {"cell_type": "code", "execution_count": null, "metadata": {}, "outputs": [], "source": ["# Ошибка: типы при сложении строки и числа\ntry:\n    print('5' + 2)\nexcept TypeError as e:\n    print('Ошибка:', e)  # TypeError: can only concatenate str (not 'int') to str\n"]},
  {"cell_type": "markdown", "metadata": {}, "source": ["**Лайфхаки с важными советами**\n\n- Используй `int()` и `float()` для преобразования типов.\n- Для округления — функция `round()`.\n- Для абсолютного значения — `abs()`.\n- Умножение обычно быстрее деления на больших объёмах данных.\n- Проверяй делитель перед делением.\n- Импортируй модуль `math` для расширенных математических функций.\n- Не называй переменные `sum`, `min`, `max`, `abs`, `round` и т.д. — это встроенные функции!\n"]}
 ],
 "metadata": {
  "kernelspec": {"display_name": "Python 3", "language": "python", "name": "python3"},
  "language_info": {"name": "python", "version": "3.10"}
 },
 "nbformat": 4,
 "nbformat_minor": 5
}
