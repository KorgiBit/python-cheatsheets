{
 "cells": [
  {"cell_type": "markdown", "metadata": {}, "source": ["# Работа с файлами CSV и JSON"]},
  {"cell_type": "markdown", "metadata": {}, "source": ["**CSV** — это текстовый формат для хранения таблиц.\n**JSON** — формат для хранения структурированных данных (словари, списки).\n\nPython предоставляет стандартные модули `csv` и `json` для работы с этими форматами."]},
  {"cell_type": "markdown", "metadata": {}, "source": ["## Чтение CSV-файла\n\nПример содержимого data.csv:\n\nname,age\nIvan,15\nAnna,14\n\n**Код:**"]},
  {"cell_type": "code", "execution_count": null, "metadata": {}, "outputs": [], "source": ["import csv\nwith open('data.csv', encoding='utf-8') as f:\n    reader = csv.reader(f)\n    for row in reader:\n        print(row)"]},
  {"cell_type": "markdown", "metadata": {}, "source": ["## Запись в CSV-файл"]},
  {"cell_type": "code", "execution_count": null, "metadata": {}, "outputs": [], "source": ["import csv\nwith open('out.csv', 'w', encoding='utf-8', newline='') as f:\n    writer = csv.writer(f)\n    writer.writerow(['name', 'score'])\n    writer.writerow(['Ivan', 100])"]},
  {"cell_type": "markdown", "metadata": {}, "source": ["## Чтение JSON-файла\n\nПример содержимого data.json:\n\n{\"name\": \"Ivan\", \"age\": 15}\n\n**Код:**"]},
  {"cell_type": "code", "execution_count": null, "metadata": {}, "outputs": [], "source": ["import json\nwith open('data.json', encoding='utf-8') as f:\n    data = json.load(f)\n    print(data)"]},
  {"cell_type": "markdown", "metadata": {}, "source": ["## Запись в JSON-файл"]},
  {"cell_type": "code", "execution_count": null, "metadata": {}, "outputs": [], "source": ["import json\ndata = {'name': 'Anna', 'age': 14}\nwith open('out.json', 'w', encoding='utf-8') as f:\n    json.dump(data, f, ensure_ascii=False, indent=2)"]},
  {"cell_type": "markdown", "metadata": {}, "source": ["## Типичные ошибки и примеры"]},
  {"cell_type": "code", "execution_count": null, "metadata": {}, "outputs": [], "source": ["# Ошибка: файл не найден\ntry:\n    with open('nofile.csv') as f:\n        pass\nexcept FileNotFoundError as e:\n    print('Ошибка:', e)"]},
  {"cell_type": "code", "execution_count": null, "metadata": {}, "outputs": [], "source": ["# Ошибка: некорректный JSON\nimport json\ntry:\n    json.loads('{name: Ivan}')\nexcept json.JSONDecodeError as e:\n    print('Ошибка:', e)"]},
  {"cell_type": "markdown", "metadata": {}, "source": ["## Лайфхаки и советы\n\n- Для чтения CSV с заголовками используй csv.DictReader.\n- Для записи словаря в CSV — csv.DictWriter.\n- Для работы с JSON-строкой используй json.loads()/json.dumps().\n- Всегда указывай encoding='utf-8' для русских букв.\n- Проверяй структуру данных перед записью в JSON."]}
 ],
 "metadata": {
  "kernelspec": {"display_name": "Python 3", "language": "python", "name": "python3"},
  "language_info": {"name": "python", "version": "3.10"}
 },
 "nbformat": 4,
 "nbformat_minor": 5
}
